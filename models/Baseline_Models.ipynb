{
 "cells": [
  {
   "cell_type": "code",
   "execution_count": 1,
   "id": "00075104",
   "metadata": {},
   "outputs": [],
   "source": [
    "import pandas as pd\n",
    "import numpy as np\n",
    "import seaborn as sns\n",
    "import matplotlib.pyplot as plt\n",
    "from datetime import datetime\n",
    "import warnings\n",
    "import re\n",
    "from sklearn.metrics import recall_score\n",
    "from sklearn.metrics import precision_score\n",
    "from sklearn.metrics import f1_score\n",
    "from sklearn.tree import DecisionTreeClassifier\n",
    "from sklearn.ensemble import RandomForestClassifier\n",
    "from sklearn.model_selection import GridSearchCV\n",
    "from sklearn.metrics import accuracy_score,classification_report,confusion_matrix\n",
    "from sklearn.metrics import roc_auc_score\n",
    "from sklearn.metrics import accuracy_score\n",
    "from scipy.stats import sem\n",
    "from numpy import mean\n",
    "from numpy import std\n",
    "from sklearn.model_selection import KFold\n",
    "from sklearn.model_selection import RepeatedKFold\n",
    "from sklearn.model_selection import cross_val_score\n",
    "from sklearn.model_selection import cross_validate\n",
    "warnings.filterwarnings('ignore')\n",
    "pd.options.display.float_format = '{:.15f}'.format\n",
    "import datetime as dt"
   ]
  },
  {
   "cell_type": "code",
   "execution_count": 2,
   "id": "b11e8100",
   "metadata": {},
   "outputs": [
    {
     "data": {
      "text/html": [
       "<div>\n",
       "<style scoped>\n",
       "    .dataframe tbody tr th:only-of-type {\n",
       "        vertical-align: middle;\n",
       "    }\n",
       "\n",
       "    .dataframe tbody tr th {\n",
       "        vertical-align: top;\n",
       "    }\n",
       "\n",
       "    .dataframe thead th {\n",
       "        text-align: right;\n",
       "    }\n",
       "</style>\n",
       "<table border=\"1\" class=\"dataframe\">\n",
       "  <thead>\n",
       "    <tr style=\"text-align: right;\">\n",
       "      <th></th>\n",
       "      <th>type</th>\n",
       "      <th>rcvTime</th>\n",
       "      <th>sendTime</th>\n",
       "      <th>sender</th>\n",
       "      <th>senderPseudo</th>\n",
       "      <th>messageID</th>\n",
       "      <th>file_name</th>\n",
       "      <th>density_level</th>\n",
       "      <th>pos_x</th>\n",
       "      <th>pos_y</th>\n",
       "      <th>...</th>\n",
       "      <th>acl_noise_y</th>\n",
       "      <th>acl_noise_z</th>\n",
       "      <th>hed_x</th>\n",
       "      <th>hed_y</th>\n",
       "      <th>hed_z</th>\n",
       "      <th>hed_noise_x</th>\n",
       "      <th>hed_noise_y</th>\n",
       "      <th>hed_noise_z</th>\n",
       "      <th>attack?</th>\n",
       "      <th>receiver_id</th>\n",
       "    </tr>\n",
       "  </thead>\n",
       "  <tbody>\n",
       "    <tr>\n",
       "      <th>0</th>\n",
       "      <td>3</td>\n",
       "      <td>57511.049951916953432</td>\n",
       "      <td>57511.049951916953432</td>\n",
       "      <td>9891.000000000000000</td>\n",
       "      <td>1098915.000000000000000</td>\n",
       "      <td>19655176.000000000000000</td>\n",
       "      <td>traceJSON-10005-10003-A0-57511-15</td>\n",
       "      <td>2</td>\n",
       "      <td>137.286902555145161</td>\n",
       "      <td>983.827257071713575</td>\n",
       "      <td>...</td>\n",
       "      <td>0.000021258383547</td>\n",
       "      <td>0.000000000000000</td>\n",
       "      <td>-0.036686450374153</td>\n",
       "      <td>0.999326825597584</td>\n",
       "      <td>0.000000000000000</td>\n",
       "      <td>4.249188192325861</td>\n",
       "      <td>0.982232769632962</td>\n",
       "      <td>0.000000000000000</td>\n",
       "      <td>1</td>\n",
       "      <td>10005</td>\n",
       "    </tr>\n",
       "    <tr>\n",
       "      <th>1</th>\n",
       "      <td>3</td>\n",
       "      <td>57511.146510437574761</td>\n",
       "      <td>57511.146510437574761</td>\n",
       "      <td>9951.000000000000000</td>\n",
       "      <td>1099515.000000000000000</td>\n",
       "      <td>19655429.000000000000000</td>\n",
       "      <td>traceJSON-10005-10003-A0-57511-15</td>\n",
       "      <td>2</td>\n",
       "      <td>153.904668561966304</td>\n",
       "      <td>899.505911646706977</td>\n",
       "      <td>...</td>\n",
       "      <td>0.000000000000013</td>\n",
       "      <td>0.000000000000000</td>\n",
       "      <td>0.038287039242177</td>\n",
       "      <td>-0.999266782509089</td>\n",
       "      <td>0.000000000000000</td>\n",
       "      <td>9.636084890334937</td>\n",
       "      <td>12.342153049505139</td>\n",
       "      <td>0.000000000000000</td>\n",
       "      <td>1</td>\n",
       "      <td>10005</td>\n",
       "    </tr>\n",
       "    <tr>\n",
       "      <th>2</th>\n",
       "      <td>3</td>\n",
       "      <td>57511.162338829126384</td>\n",
       "      <td>57511.162338829126384</td>\n",
       "      <td>10011.000000000000000</td>\n",
       "      <td>10100115.000000000000000</td>\n",
       "      <td>19655584.000000000000000</td>\n",
       "      <td>traceJSON-10005-10003-A0-57511-15</td>\n",
       "      <td>2</td>\n",
       "      <td>142.981000552607952</td>\n",
       "      <td>1038.129049878944215</td>\n",
       "      <td>...</td>\n",
       "      <td>0.000424009628911</td>\n",
       "      <td>0.000000000000000</td>\n",
       "      <td>0.073948678480006</td>\n",
       "      <td>-0.997262048285735</td>\n",
       "      <td>0.000000000000000</td>\n",
       "      <td>7.179251774207310</td>\n",
       "      <td>7.627622845974860</td>\n",
       "      <td>0.000000000000000</td>\n",
       "      <td>1</td>\n",
       "      <td>10005</td>\n",
       "    </tr>\n",
       "    <tr>\n",
       "      <th>3</th>\n",
       "      <td>3</td>\n",
       "      <td>57511.590730855474249</td>\n",
       "      <td>57511.590730855474249</td>\n",
       "      <td>9957.000000000000000</td>\n",
       "      <td>1099575.000000000000000</td>\n",
       "      <td>19656248.000000000000000</td>\n",
       "      <td>traceJSON-10005-10003-A0-57511-15</td>\n",
       "      <td>2</td>\n",
       "      <td>149.931080349069163</td>\n",
       "      <td>899.035172728899624</td>\n",
       "      <td>...</td>\n",
       "      <td>0.000000000062721</td>\n",
       "      <td>0.000000000000000</td>\n",
       "      <td>0.016440994151280</td>\n",
       "      <td>-0.999864837721238</td>\n",
       "      <td>0.000000000000000</td>\n",
       "      <td>16.013310920410738</td>\n",
       "      <td>21.388849080932467</td>\n",
       "      <td>0.000000000000000</td>\n",
       "      <td>0</td>\n",
       "      <td>10005</td>\n",
       "    </tr>\n",
       "    <tr>\n",
       "      <th>4</th>\n",
       "      <td>3</td>\n",
       "      <td>57511.641619857240585</td>\n",
       "      <td>57511.641619857240585</td>\n",
       "      <td>9963.000000000000000</td>\n",
       "      <td>1099635.000000000000000</td>\n",
       "      <td>19656466.000000000000000</td>\n",
       "      <td>traceJSON-10005-10003-A0-57511-15</td>\n",
       "      <td>2</td>\n",
       "      <td>152.753405416050725</td>\n",
       "      <td>906.773024725052210</td>\n",
       "      <td>...</td>\n",
       "      <td>0.000000000000000</td>\n",
       "      <td>0.000000000000000</td>\n",
       "      <td>0.047863865685627</td>\n",
       "      <td>-0.998853868371959</td>\n",
       "      <td>0.000000000000000</td>\n",
       "      <td>6.510268774099048</td>\n",
       "      <td>7.224761247950584</td>\n",
       "      <td>0.000000000000000</td>\n",
       "      <td>0</td>\n",
       "      <td>10005</td>\n",
       "    </tr>\n",
       "  </tbody>\n",
       "</table>\n",
       "<p>5 rows × 34 columns</p>\n",
       "</div>"
      ],
      "text/plain": [
       "   type               rcvTime              sendTime                sender  \\\n",
       "0     3 57511.049951916953432 57511.049951916953432  9891.000000000000000   \n",
       "1     3 57511.146510437574761 57511.146510437574761  9951.000000000000000   \n",
       "2     3 57511.162338829126384 57511.162338829126384 10011.000000000000000   \n",
       "3     3 57511.590730855474249 57511.590730855474249  9957.000000000000000   \n",
       "4     3 57511.641619857240585 57511.641619857240585  9963.000000000000000   \n",
       "\n",
       "              senderPseudo                messageID  \\\n",
       "0  1098915.000000000000000 19655176.000000000000000   \n",
       "1  1099515.000000000000000 19655429.000000000000000   \n",
       "2 10100115.000000000000000 19655584.000000000000000   \n",
       "3  1099575.000000000000000 19656248.000000000000000   \n",
       "4  1099635.000000000000000 19656466.000000000000000   \n",
       "\n",
       "                           file_name  density_level               pos_x  \\\n",
       "0  traceJSON-10005-10003-A0-57511-15              2 137.286902555145161   \n",
       "1  traceJSON-10005-10003-A0-57511-15              2 153.904668561966304   \n",
       "2  traceJSON-10005-10003-A0-57511-15              2 142.981000552607952   \n",
       "3  traceJSON-10005-10003-A0-57511-15              2 149.931080349069163   \n",
       "4  traceJSON-10005-10003-A0-57511-15              2 152.753405416050725   \n",
       "\n",
       "                 pos_y  ...       acl_noise_y       acl_noise_z  \\\n",
       "0  983.827257071713575  ... 0.000021258383547 0.000000000000000   \n",
       "1  899.505911646706977  ... 0.000000000000013 0.000000000000000   \n",
       "2 1038.129049878944215  ... 0.000424009628911 0.000000000000000   \n",
       "3  899.035172728899624  ... 0.000000000062721 0.000000000000000   \n",
       "4  906.773024725052210  ... 0.000000000000000 0.000000000000000   \n",
       "\n",
       "               hed_x              hed_y             hed_z        hed_noise_x  \\\n",
       "0 -0.036686450374153  0.999326825597584 0.000000000000000  4.249188192325861   \n",
       "1  0.038287039242177 -0.999266782509089 0.000000000000000  9.636084890334937   \n",
       "2  0.073948678480006 -0.997262048285735 0.000000000000000  7.179251774207310   \n",
       "3  0.016440994151280 -0.999864837721238 0.000000000000000 16.013310920410738   \n",
       "4  0.047863865685627 -0.998853868371959 0.000000000000000  6.510268774099048   \n",
       "\n",
       "         hed_noise_y       hed_noise_z  attack?  receiver_id  \n",
       "0  0.982232769632962 0.000000000000000        1        10005  \n",
       "1 12.342153049505139 0.000000000000000        1        10005  \n",
       "2  7.627622845974860 0.000000000000000        1        10005  \n",
       "3 21.388849080932467 0.000000000000000        0        10005  \n",
       "4  7.224761247950584 0.000000000000000        0        10005  \n",
       "\n",
       "[5 rows x 34 columns]"
      ]
     },
     "execution_count": 2,
     "metadata": {},
     "output_type": "execute_result"
    }
   ],
   "source": [
    "data = pd.read_csv('final_1416.csv')\n",
    "data.head()"
   ]
  },
  {
   "cell_type": "code",
   "execution_count": 3,
   "id": "5271cf24",
   "metadata": {},
   "outputs": [
    {
     "name": "stdout",
     "output_type": "stream",
     "text": [
      "<class 'pandas.core.frame.DataFrame'>\n",
      "RangeIndex: 820097 entries, 0 to 820096\n",
      "Data columns (total 34 columns):\n",
      " #   Column         Non-Null Count   Dtype  \n",
      "---  ------         --------------   -----  \n",
      " 0   type           820097 non-null  int64  \n",
      " 1   rcvTime        820097 non-null  float64\n",
      " 2   sendTime       820097 non-null  float64\n",
      " 3   sender         820097 non-null  float64\n",
      " 4   senderPseudo   820097 non-null  float64\n",
      " 5   messageID      820097 non-null  float64\n",
      " 6   file_name      820097 non-null  object \n",
      " 7   density_level  820097 non-null  int64  \n",
      " 8   pos_x          820097 non-null  float64\n",
      " 9   pos_y          820097 non-null  float64\n",
      " 10  pos_z          820097 non-null  float64\n",
      " 11  pos_noise_x    820097 non-null  float64\n",
      " 12  pos_noise_y    820097 non-null  float64\n",
      " 13  pos_noise_z    820097 non-null  float64\n",
      " 14  spd_x          820097 non-null  float64\n",
      " 15  spd_y          820097 non-null  float64\n",
      " 16  spd_z          820097 non-null  float64\n",
      " 17  spd_noise_x    820097 non-null  float64\n",
      " 18  spd_noise_y    820097 non-null  float64\n",
      " 19  spd_noise_z    820097 non-null  float64\n",
      " 20  acl_x          820097 non-null  float64\n",
      " 21  acl_y          820097 non-null  float64\n",
      " 22  acl_z          820097 non-null  float64\n",
      " 23  acl_noise_x    820097 non-null  float64\n",
      " 24  acl_noise_y    820097 non-null  float64\n",
      " 25  acl_noise_z    820097 non-null  float64\n",
      " 26  hed_x          820097 non-null  float64\n",
      " 27  hed_y          820097 non-null  float64\n",
      " 28  hed_z          820097 non-null  float64\n",
      " 29  hed_noise_x    820097 non-null  float64\n",
      " 30  hed_noise_y    820097 non-null  float64\n",
      " 31  hed_noise_z    820097 non-null  float64\n",
      " 32  attack?        820097 non-null  int64  \n",
      " 33  receiver_id    820097 non-null  int64  \n",
      "dtypes: float64(29), int64(4), object(1)\n",
      "memory usage: 212.7+ MB\n"
     ]
    }
   ],
   "source": [
    "data.info()"
   ]
  },
  {
   "cell_type": "code",
   "execution_count": 4,
   "id": "ea9fd18b",
   "metadata": {},
   "outputs": [],
   "source": [
    "from datetime import datetime\n",
    "#Dropping the columns that are of no use\n",
    "data.drop(['type'],axis=1,inplace=True)\n",
    "data.drop(['pos_z'],axis=1,inplace=True)\n",
    "data.drop(['spd_z'],axis=1,inplace=True)\n",
    "data.drop(['acl_z'],axis=1,inplace=True)\n",
    "data.drop(['hed_z'],axis=1,inplace=True)\n",
    "data['rcvTime_numeric'] = data['rcvTime']\n",
    "data['sendTime_numeric'] = data['sendTime']\n",
    "data[['rcvTime','sendTime']]  = data[['rcvTime','sendTime']].apply(pd.to_datetime)\n",
    "data[['sender','messageID']]  = data[['sender','messageID']].fillna(0.0).astype(int)\n",
    "data.rename(columns = {'attack?':'attack'}, inplace = True)\n",
    "\n",
    "#Dropping the columns with noise\n",
    "for i in data.columns:\n",
    "    if 'noise' in i:\n",
    "        data.drop(i, axis=1, inplace=True)"
   ]
  },
  {
   "cell_type": "code",
   "execution_count": 5,
   "id": "527bbe2b",
   "metadata": {},
   "outputs": [],
   "source": [
    "data.drop(['file_name'], axis=1, inplace=True)\n",
    "data['sendTime_numeric']=data['sendTime'].map(dt.datetime.toordinal)\n",
    "data['rcvTime_numeric']=data['rcvTime'].map(dt.datetime.toordinal)"
   ]
  },
  {
   "cell_type": "markdown",
   "id": "f1493dd0",
   "metadata": {},
   "source": [
    "## Sorting data by receive time and splitting data for training"
   ]
  },
  {
   "cell_type": "code",
   "execution_count": 6,
   "id": "1fcf2af9",
   "metadata": {},
   "outputs": [
    {
     "data": {
      "text/html": [
       "<div>\n",
       "<style scoped>\n",
       "    .dataframe tbody tr th:only-of-type {\n",
       "        vertical-align: middle;\n",
       "    }\n",
       "\n",
       "    .dataframe tbody tr th {\n",
       "        vertical-align: top;\n",
       "    }\n",
       "\n",
       "    .dataframe thead th {\n",
       "        text-align: right;\n",
       "    }\n",
       "</style>\n",
       "<table border=\"1\" class=\"dataframe\">\n",
       "  <thead>\n",
       "    <tr style=\"text-align: right;\">\n",
       "      <th></th>\n",
       "      <th>rcvTime</th>\n",
       "      <th>sendTime</th>\n",
       "      <th>sender</th>\n",
       "      <th>senderPseudo</th>\n",
       "      <th>messageID</th>\n",
       "      <th>density_level</th>\n",
       "      <th>pos_x</th>\n",
       "      <th>pos_y</th>\n",
       "      <th>spd_x</th>\n",
       "      <th>spd_y</th>\n",
       "      <th>acl_x</th>\n",
       "      <th>acl_y</th>\n",
       "      <th>hed_x</th>\n",
       "      <th>hed_y</th>\n",
       "      <th>attack</th>\n",
       "      <th>receiver_id</th>\n",
       "      <th>rcvTime_numeric</th>\n",
       "      <th>sendTime_numeric</th>\n",
       "    </tr>\n",
       "  </thead>\n",
       "  <tbody>\n",
       "    <tr>\n",
       "      <th>0</th>\n",
       "      <td>1970-01-01 00:00:00.000050408</td>\n",
       "      <td>1970-01-01 00:00:00.000050408</td>\n",
       "      <td>21</td>\n",
       "      <td>10215.000000000000000</td>\n",
       "      <td>16936</td>\n",
       "      <td>2</td>\n",
       "      <td>220.317917303648272</td>\n",
       "      <td>383.934935437669594</td>\n",
       "      <td>-0.078168163622794</td>\n",
       "      <td>0.525905153291198</td>\n",
       "      <td>-0.388921475468878</td>\n",
       "      <td>2.616637002617828</td>\n",
       "      <td>-0.142980189511322</td>\n",
       "      <td>0.989725550547881</td>\n",
       "      <td>0</td>\n",
       "      <td>27</td>\n",
       "      <td>719163</td>\n",
       "      <td>719163</td>\n",
       "    </tr>\n",
       "    <tr>\n",
       "      <th>1</th>\n",
       "      <td>1970-01-01 00:00:00.000050408</td>\n",
       "      <td>1970-01-01 00:00:00.000050408</td>\n",
       "      <td>27</td>\n",
       "      <td>10275.000000000000000</td>\n",
       "      <td>17018</td>\n",
       "      <td>2</td>\n",
       "      <td>223.030520488101104</td>\n",
       "      <td>364.802884416285281</td>\n",
       "      <td>-0.079870635180307</td>\n",
       "      <td>0.537359158655796</td>\n",
       "      <td>-0.388233666394645</td>\n",
       "      <td>2.613037040001825</td>\n",
       "      <td>-0.147020325879710</td>\n",
       "      <td>0.989133471164647</td>\n",
       "      <td>0</td>\n",
       "      <td>21</td>\n",
       "      <td>719163</td>\n",
       "      <td>719163</td>\n",
       "    </tr>\n",
       "    <tr>\n",
       "      <th>2</th>\n",
       "      <td>1970-01-01 00:00:00.000050409</td>\n",
       "      <td>1970-01-01 00:00:00.000050409</td>\n",
       "      <td>21</td>\n",
       "      <td>10215.000000000000000</td>\n",
       "      <td>17075</td>\n",
       "      <td>2</td>\n",
       "      <td>219.947049702855480</td>\n",
       "      <td>385.757716338412308</td>\n",
       "      <td>-0.421900962680975</td>\n",
       "      <td>2.838498011407711</td>\n",
       "      <td>-0.322469854764553</td>\n",
       "      <td>2.169566146413223</td>\n",
       "      <td>-0.142233817434146</td>\n",
       "      <td>0.989833087534514</td>\n",
       "      <td>0</td>\n",
       "      <td>27</td>\n",
       "      <td>719163</td>\n",
       "      <td>719163</td>\n",
       "    </tr>\n",
       "    <tr>\n",
       "      <th>3</th>\n",
       "      <td>1970-01-01 00:00:00.000050409</td>\n",
       "      <td>1970-01-01 00:00:00.000050409</td>\n",
       "      <td>27</td>\n",
       "      <td>10275.000000000000000</td>\n",
       "      <td>17117</td>\n",
       "      <td>2</td>\n",
       "      <td>222.765622516565202</td>\n",
       "      <td>366.657630560278733</td>\n",
       "      <td>-0.419577828663898</td>\n",
       "      <td>2.822925004092247</td>\n",
       "      <td>-0.360335561439105</td>\n",
       "      <td>2.425224516331284</td>\n",
       "      <td>-0.142064310031641</td>\n",
       "      <td>0.989857430044970</td>\n",
       "      <td>0</td>\n",
       "      <td>21</td>\n",
       "      <td>719163</td>\n",
       "      <td>719163</td>\n",
       "    </tr>\n",
       "    <tr>\n",
       "      <th>4</th>\n",
       "      <td>1970-01-01 00:00:00.000050410</td>\n",
       "      <td>1970-01-01 00:00:00.000050410</td>\n",
       "      <td>9</td>\n",
       "      <td>1095.000000000000000</td>\n",
       "      <td>17151</td>\n",
       "      <td>2</td>\n",
       "      <td>1197.362034797699152</td>\n",
       "      <td>971.768939400884392</td>\n",
       "      <td>-11.762703940887320</td>\n",
       "      <td>-2.110692806707845</td>\n",
       "      <td>-1.783526867056106</td>\n",
       "      <td>-0.319738065392786</td>\n",
       "      <td>-0.992752282476080</td>\n",
       "      <td>-0.120178640525395</td>\n",
       "      <td>0</td>\n",
       "      <td>15</td>\n",
       "      <td>719163</td>\n",
       "      <td>719163</td>\n",
       "    </tr>\n",
       "  </tbody>\n",
       "</table>\n",
       "</div>"
      ],
      "text/plain": [
       "                        rcvTime                      sendTime  sender  \\\n",
       "0 1970-01-01 00:00:00.000050408 1970-01-01 00:00:00.000050408      21   \n",
       "1 1970-01-01 00:00:00.000050408 1970-01-01 00:00:00.000050408      27   \n",
       "2 1970-01-01 00:00:00.000050409 1970-01-01 00:00:00.000050409      21   \n",
       "3 1970-01-01 00:00:00.000050409 1970-01-01 00:00:00.000050409      27   \n",
       "4 1970-01-01 00:00:00.000050410 1970-01-01 00:00:00.000050410       9   \n",
       "\n",
       "           senderPseudo  messageID  density_level                pos_x  \\\n",
       "0 10215.000000000000000      16936              2  220.317917303648272   \n",
       "1 10275.000000000000000      17018              2  223.030520488101104   \n",
       "2 10215.000000000000000      17075              2  219.947049702855480   \n",
       "3 10275.000000000000000      17117              2  222.765622516565202   \n",
       "4  1095.000000000000000      17151              2 1197.362034797699152   \n",
       "\n",
       "                pos_y               spd_x              spd_y  \\\n",
       "0 383.934935437669594  -0.078168163622794  0.525905153291198   \n",
       "1 364.802884416285281  -0.079870635180307  0.537359158655796   \n",
       "2 385.757716338412308  -0.421900962680975  2.838498011407711   \n",
       "3 366.657630560278733  -0.419577828663898  2.822925004092247   \n",
       "4 971.768939400884392 -11.762703940887320 -2.110692806707845   \n",
       "\n",
       "               acl_x              acl_y              hed_x              hed_y  \\\n",
       "0 -0.388921475468878  2.616637002617828 -0.142980189511322  0.989725550547881   \n",
       "1 -0.388233666394645  2.613037040001825 -0.147020325879710  0.989133471164647   \n",
       "2 -0.322469854764553  2.169566146413223 -0.142233817434146  0.989833087534514   \n",
       "3 -0.360335561439105  2.425224516331284 -0.142064310031641  0.989857430044970   \n",
       "4 -1.783526867056106 -0.319738065392786 -0.992752282476080 -0.120178640525395   \n",
       "\n",
       "   attack  receiver_id  rcvTime_numeric  sendTime_numeric  \n",
       "0       0           27           719163            719163  \n",
       "1       0           21           719163            719163  \n",
       "2       0           27           719163            719163  \n",
       "3       0           21           719163            719163  \n",
       "4       0           15           719163            719163  "
      ]
     },
     "execution_count": 6,
     "metadata": {},
     "output_type": "execute_result"
    }
   ],
   "source": [
    "# Sorting by receive time\n",
    "data.sort_values(by=['rcvTime'], inplace=True)\n",
    "data.reset_index(drop=True, inplace=True)\n",
    "data.head()"
   ]
  },
  {
   "cell_type": "code",
   "execution_count": 7,
   "id": "b83635a1",
   "metadata": {},
   "outputs": [
    {
     "name": "stdout",
     "output_type": "stream",
     "text": [
      "total 820097 train_size 656078 test_size 164019\n"
     ]
    }
   ],
   "source": [
    "# Splitting the data into 80% as train and rest(20%) as test\n",
    "total_size = len(data)\n",
    "total_size\n",
    "train_size = round(total_size*.8)\n",
    "test_size = total_size - train_size\n",
    "print('total', total_size, 'train_size', train_size, 'test_size', test_size)"
   ]
  },
  {
   "cell_type": "code",
   "execution_count": 8,
   "id": "8c2f1401",
   "metadata": {},
   "outputs": [
    {
     "name": "stdout",
     "output_type": "stream",
     "text": [
      "train_data_size 656078 test_data_size 164019\n"
     ]
    }
   ],
   "source": [
    "# Populating train and test data based on the index calculated in above cell\n",
    "train_data = data[0:train_size]\n",
    "test_data = data[train_size:train_size+test_size]\n",
    "print('train_data_size', len(train_data), 'test_data_size', len(test_data))"
   ]
  },
  {
   "cell_type": "code",
   "execution_count": 9,
   "id": "e591b345",
   "metadata": {},
   "outputs": [],
   "source": [
    "# 12 features\n",
    "X_train_12 = train_data[['messageID','sender','senderPseudo','pos_x','pos_y','spd_x','spd_y','acl_x','acl_y', 'hed_x','hed_y','rcvTime_numeric']]\n",
    "X_test_12 = test_data[['messageID','sender','senderPseudo','pos_x','pos_y','spd_x','spd_y','acl_x','acl_y', 'hed_x','hed_y','rcvTime_numeric']]\n",
    "y_train_12 = train_data[['attack']]\n",
    "y_test_12 = test_data[['attack']]"
   ]
  },
  {
   "cell_type": "code",
   "execution_count": 10,
   "id": "14130d48",
   "metadata": {},
   "outputs": [],
   "source": [
    "# 11 features\n",
    "X_train_11 = train_data[['messageID','senderPseudo','pos_x','pos_y','spd_x','spd_y','acl_x','acl_y', 'hed_x','hed_y','rcvTime_numeric']]\n",
    "X_test_11 = test_data[['messageID','senderPseudo','pos_x','pos_y','spd_x','spd_y','acl_x','acl_y', 'hed_x','hed_y','rcvTime_numeric']]\n",
    "y_train_11 = train_data[['attack']]\n",
    "y_test_11 = test_data[['attack']]"
   ]
  },
  {
   "cell_type": "code",
   "execution_count": 11,
   "id": "070f3a14",
   "metadata": {},
   "outputs": [],
   "source": [
    "# 10 features\n",
    "X_train_10 = train_data[['messageID','pos_x','pos_y','spd_x','spd_y','acl_x','acl_y', 'hed_x','hed_y','rcvTime_numeric']]\n",
    "X_test_10 = test_data[['messageID','pos_x','pos_y','spd_x','spd_y','acl_x','acl_y', 'hed_x','hed_y','rcvTime_numeric']]\n",
    "y_train_10 = train_data[['attack']]\n",
    "y_test_10 = test_data[['attack']]"
   ]
  },
  {
   "cell_type": "code",
   "execution_count": 12,
   "id": "25bbc429",
   "metadata": {},
   "outputs": [
    {
     "name": "stdout",
     "output_type": "stream",
     "text": [
      "Accuracy: 0.9833555868527427\n"
     ]
    }
   ],
   "source": [
    "# Create Decision Tree classifer object\n",
    "clf = DecisionTreeClassifier()\n",
    "\n",
    "# Train Decision Tree Classifer\n",
    "clf = clf.fit(X_train_12,y_train_12)\n",
    "\n",
    "#Predict the response for test dataset\n",
    "y_pred = clf.predict(X_test_12)\n",
    "# Model Accuracy, how often is the classifier correct?\n",
    "print(\"Accuracy:\",accuracy_score(y_test_12, y_pred))"
   ]
  },
  {
   "cell_type": "markdown",
   "id": "803dcd94",
   "metadata": {},
   "source": [
    "**RandomForestClassifier**\n",
    "\n",
    "Simple RandomForest classifer without hyperparameters - 12 features\n"
   ]
  },
  {
   "cell_type": "code",
   "execution_count": 13,
   "id": "fd220dc5",
   "metadata": {},
   "outputs": [
    {
     "name": "stdout",
     "output_type": "stream",
     "text": [
      "              precision    recall  f1-score   support\n",
      "\n",
      "           0       0.88      1.00      0.93    114796\n",
      "           1       1.00      0.67      0.80     49223\n",
      "\n",
      "    accuracy                           0.90    164019\n",
      "   macro avg       0.94      0.84      0.87    164019\n",
      "weighted avg       0.91      0.90      0.89    164019\n",
      "\n"
     ]
    }
   ],
   "source": [
    "clf = RandomForestClassifier(max_depth=2, random_state=0)\n",
    "clf.fit(X_train_12, y_train_12)\n",
    "y_pred_12 = clf.predict(X_test_12)\n",
    "print(classification_report(y_test_12,y_pred_12))"
   ]
  },
  {
   "cell_type": "code",
   "execution_count": 14,
   "id": "c5946b52",
   "metadata": {},
   "outputs": [
    {
     "name": "stdout",
     "output_type": "stream",
     "text": [
      "              precision    recall  f1-score   support\n",
      "\n",
      "           0       0.91      1.00      0.95    114796\n",
      "           1       1.00      0.76      0.86     49223\n",
      "\n",
      "    accuracy                           0.93    164019\n",
      "   macro avg       0.95      0.88      0.91    164019\n",
      "weighted avg       0.93      0.93      0.92    164019\n",
      "\n"
     ]
    }
   ],
   "source": [
    "#Simple RandomForest classifer without hyperparameters - 11 features\n",
    "clf = RandomForestClassifier(max_depth=2, random_state=0)\n",
    "clf.fit(X_train_11, y_train_11)\n",
    "y_pred_11 = clf.predict(X_test_11)\n",
    "print(classification_report(y_test_11,y_pred_11))"
   ]
  },
  {
   "cell_type": "code",
   "execution_count": 15,
   "id": "847e2177",
   "metadata": {},
   "outputs": [
    {
     "name": "stdout",
     "output_type": "stream",
     "text": [
      "              precision    recall  f1-score   support\n",
      "\n",
      "           0       0.91      1.00      0.95    114796\n",
      "           1       1.00      0.76      0.87     49223\n",
      "\n",
      "    accuracy                           0.93    164019\n",
      "   macro avg       0.95      0.88      0.91    164019\n",
      "weighted avg       0.94      0.93      0.93    164019\n",
      "\n"
     ]
    }
   ],
   "source": [
    "#Simple RandomForest classifer without hyperparameters - 10 features\n",
    "clf = RandomForestClassifier(max_depth=2, random_state=0)\n",
    "clf.fit(X_train_10, y_train_10)\n",
    "y_pred_10 = clf.predict(X_test_10)\n",
    "print(classification_report(y_test_10,y_pred_10))"
   ]
  },
  {
   "cell_type": "code",
   "execution_count": 16,
   "id": "d236aacb",
   "metadata": {},
   "outputs": [
    {
     "name": "stdout",
     "output_type": "stream",
     "text": [
      "              precision    recall  f1-score   support\n",
      "\n",
      "           0       0.98      1.00      0.99    114796\n",
      "           1       1.00      0.94      0.97     49223\n",
      "\n",
      "    accuracy                           0.98    164019\n",
      "   macro avg       0.99      0.97      0.98    164019\n",
      "weighted avg       0.98      0.98      0.98    164019\n",
      "\n"
     ]
    }
   ],
   "source": [
    "#Simple RandomForest classifer with hyperparameters - 12 features\n",
    "clf = RandomForestClassifier(random_state=0, criterion='entropy',max_depth=7, max_features='auto',n_estimators= 50)\n",
    "clf.fit(X_train_12, y_train_12)\n",
    "y_pred_12 = clf.predict(X_test_12)\n",
    "print(classification_report(y_test_12,y_pred_12))"
   ]
  },
  {
   "cell_type": "code",
   "execution_count": 17,
   "id": "64bed761",
   "metadata": {},
   "outputs": [
    {
     "name": "stdout",
     "output_type": "stream",
     "text": [
      "              precision    recall  f1-score   support\n",
      "\n",
      "           0       0.98      1.00      0.99    114796\n",
      "           1       1.00      0.94      0.97     49223\n",
      "\n",
      "    accuracy                           0.98    164019\n",
      "   macro avg       0.99      0.97      0.98    164019\n",
      "weighted avg       0.98      0.98      0.98    164019\n",
      "\n"
     ]
    }
   ],
   "source": [
    "#Simple RandomForest classifer with hyperparameters - 11 features\n",
    "clf = RandomForestClassifier(random_state=0, criterion='entropy',max_depth=7, max_features='auto',n_estimators= 50)\n",
    "clf.fit(X_train_11, y_train_11)\n",
    "y_pred_11 = clf.predict(X_test_11)\n",
    "print(classification_report(y_test_11,y_pred_11))"
   ]
  },
  {
   "cell_type": "code",
   "execution_count": 18,
   "id": "18b14f21",
   "metadata": {},
   "outputs": [
    {
     "name": "stdout",
     "output_type": "stream",
     "text": [
      "              precision    recall  f1-score   support\n",
      "\n",
      "           0       0.98      1.00      0.99    114796\n",
      "           1       1.00      0.94      0.97     49223\n",
      "\n",
      "    accuracy                           0.98    164019\n",
      "   macro avg       0.99      0.97      0.98    164019\n",
      "weighted avg       0.98      0.98      0.98    164019\n",
      "\n"
     ]
    }
   ],
   "source": [
    "#Simple RandomForest classifer with hyperparameters - 10 features\n",
    "clf = RandomForestClassifier(random_state=0, criterion='entropy',max_depth=7, max_features='auto',n_estimators= 50)\n",
    "clf.fit(X_train_11, y_train_11)\n",
    "y_pred_11 = clf.predict(X_test_11)\n",
    "print(classification_report(y_test_11,y_pred_11))"
   ]
  },
  {
   "cell_type": "code",
   "execution_count": 20,
   "id": "24078564",
   "metadata": {},
   "outputs": [
    {
     "name": "stdout",
     "output_type": "stream",
     "text": [
      "              precision    recall  f1-score   support\n",
      "\n",
      "           0       0.70      1.00      0.82    114796\n",
      "           1       0.23      0.00      0.00     49223\n",
      "\n",
      "    accuracy                           0.70    164019\n",
      "   macro avg       0.46      0.50      0.41    164019\n",
      "weighted avg       0.56      0.70      0.58    164019\n",
      "\n"
     ]
    }
   ],
   "source": [
    "#KNN\n",
    "#12 features\n",
    "#Create KNN Classifier\n",
    "#Import knearest neighbors Classifier model\n",
    "from sklearn.neighbors import KNeighborsClassifier\n",
    "knn = KNeighborsClassifier(n_neighbors=6)\n",
    "\n",
    "#Train the model using the training sets\n",
    "knn.fit(X_train_12, y_train_12)\n",
    "\n",
    "#Predict the response for test dataset\n",
    "y_pred_12 = knn.predict(X_test_12)\n",
    "print(classification_report(y_test_12,y_pred_12))"
   ]
  },
  {
   "cell_type": "code",
   "execution_count": 21,
   "id": "b2e5576e",
   "metadata": {},
   "outputs": [
    {
     "name": "stdout",
     "output_type": "stream",
     "text": [
      "              precision    recall  f1-score   support\n",
      "\n",
      "           0       0.70      1.00      0.82    114796\n",
      "           1       0.23      0.00      0.00     49223\n",
      "\n",
      "    accuracy                           0.70    164019\n",
      "   macro avg       0.46      0.50      0.41    164019\n",
      "weighted avg       0.56      0.70      0.58    164019\n",
      "\n"
     ]
    }
   ],
   "source": [
    "#11 features\n",
    "#Create KNN Classifier\n",
    "knn = KNeighborsClassifier(n_neighbors=6)\n",
    "\n",
    "#Train the model using the training sets\n",
    "knn.fit(X_train_11, y_train_11)\n",
    "\n",
    "#Predict the response for test dataset\n",
    "y_pred_11 = knn.predict(X_test_11)\n",
    "print(classification_report(y_test_11,y_pred_11))"
   ]
  },
  {
   "cell_type": "code",
   "execution_count": 22,
   "id": "b9731a08",
   "metadata": {},
   "outputs": [
    {
     "name": "stdout",
     "output_type": "stream",
     "text": [
      "              precision    recall  f1-score   support\n",
      "\n",
      "           0       0.70      1.00      0.82    114796\n",
      "           1       0.22      0.00      0.00     49223\n",
      "\n",
      "    accuracy                           0.70    164019\n",
      "   macro avg       0.46      0.50      0.41    164019\n",
      "weighted avg       0.56      0.70      0.58    164019\n",
      "\n"
     ]
    }
   ],
   "source": [
    "#10 features\n",
    "#Create KNN Classifier\n",
    "knn = KNeighborsClassifier(n_neighbors=6)\n",
    "\n",
    "#Train the model using the training sets\n",
    "knn.fit(X_train_10, y_train_10)\n",
    "\n",
    "#Predict the response for test dataset\n",
    "y_pred_10 = knn.predict(X_test_10)\n",
    "print(classification_report(y_test_10,y_pred_10))"
   ]
  },
  {
   "cell_type": "code",
   "execution_count": 25,
   "id": "4092171a",
   "metadata": {},
   "outputs": [
    {
     "name": "stdout",
     "output_type": "stream",
     "text": [
      "              precision    recall  f1-score   support\n",
      "\n",
      "           0       0.70      1.00      0.82    114796\n",
      "           1       0.00      0.00      0.00     49223\n",
      "\n",
      "    accuracy                           0.70    164019\n",
      "   macro avg       0.35      0.50      0.41    164019\n",
      "weighted avg       0.49      0.70      0.58    164019\n",
      "\n"
     ]
    }
   ],
   "source": [
    "#Logistic Regression\n",
    "#Simple Logistic Regression\n",
    "from sklearn.linear_model import LogisticRegression\n",
    "#Create LogisticRegression Classifier\n",
    "lr = LogisticRegression()\n",
    "#Train the model using the training sets\n",
    "lr.fit(X_train_11, y_train_11)\n",
    "\n",
    "#Predict the response for test dataset\n",
    "y_pred_11 = lr.predict(X_test_11)\n",
    "print(classification_report(y_test_11,y_pred_11))"
   ]
  },
  {
   "cell_type": "code",
   "execution_count": 28,
   "id": "390faeeb",
   "metadata": {},
   "outputs": [
    {
     "name": "stdout",
     "output_type": "stream",
     "text": [
      "              precision    recall  f1-score   support\n",
      "\n",
      "           0       0.96      0.99      0.97    114796\n",
      "           1       0.98      0.89      0.94     49223\n",
      "\n",
      "    accuracy                           0.96    164019\n",
      "   macro avg       0.97      0.94      0.96    164019\n",
      "weighted avg       0.96      0.96      0.96    164019\n",
      "\n",
      "0.9641504947597535\n"
     ]
    }
   ],
   "source": [
    "#LogisticRegression - with best hyper-parameters found \n",
    "\n",
    "#Create LogisticRegression Classifier\n",
    "lr = LogisticRegression(C= 10, penalty= 'l2', solver= 'newton-cg')\n",
    "#Train the model using the training sets\n",
    "lr.fit(X_train_11, y_train_11)\n",
    "\n",
    "#Predict the response for test dataset\n",
    "y_pred_11 = lr.predict(X_test_11)\n",
    "print(classification_report(y_test_11,y_pred_11))\n",
    "print(accuracy_score(y_test_11,y_pred_11))"
   ]
  },
  {
   "cell_type": "code",
   "execution_count": 27,
   "id": "3065e2c4",
   "metadata": {},
   "outputs": [
    {
     "name": "stdout",
     "output_type": "stream",
     "text": [
      "0.6914016059115102\n",
      "              precision    recall  f1-score   support\n",
      "\n",
      "           0       0.70      0.98      0.82    114796\n",
      "           1       0.28      0.02      0.03     49223\n",
      "\n",
      "    accuracy                           0.69    164019\n",
      "   macro avg       0.49      0.50      0.43    164019\n",
      "weighted avg       0.57      0.69      0.58    164019\n",
      "\n"
     ]
    }
   ],
   "source": [
    "#Naive Bayes\n",
    "#12 features\n",
    "from sklearn.preprocessing import StandardScaler\n",
    "sc = StandardScaler()\n",
    "X_train = sc.fit_transform(X_train_12)\n",
    "X_test = sc.transform(X_test_12)\n",
    "from sklearn.naive_bayes import GaussianNB\n",
    "classifier1 = GaussianNB()\n",
    "classifier1.fit(X_train_12, y_train_12)\n",
    "GaussianNB()\n",
    "y_pred_12  =  classifier1.predict(X_test_12)\n",
    "#from sklearn.metrics import confusion_matrix,accuracy_score\n",
    "#cm = print(confusion_matrix(y_test, y_pred))\n",
    "print(accuracy_score(y_test_12,y_pred_12))\n",
    "print(classification_report(y_test_12, y_pred_12))"
   ]
  },
  {
   "cell_type": "code",
   "execution_count": 30,
   "id": "b6106395",
   "metadata": {},
   "outputs": [
    {
     "name": "stdout",
     "output_type": "stream",
     "text": [
      "0.6914016059115102\n",
      "              precision    recall  f1-score   support\n",
      "\n",
      "           0       0.70      0.98      0.82    114796\n",
      "           1       0.28      0.02      0.03     49223\n",
      "\n",
      "    accuracy                           0.69    164019\n",
      "   macro avg       0.49      0.50      0.43    164019\n",
      "weighted avg       0.57      0.69      0.58    164019\n",
      "\n"
     ]
    }
   ],
   "source": [
    "#Naive Bayes\n",
    "#11 features\n",
    "from sklearn.preprocessing import StandardScaler\n",
    "sc = StandardScaler()\n",
    "X_train = sc.fit_transform(X_train_11)\n",
    "X_test = sc.transform(X_test_11)\n",
    "from sklearn.naive_bayes import GaussianNB\n",
    "classifier1 = GaussianNB()\n",
    "classifier1.fit(X_train_11, y_train_11)\n",
    "GaussianNB()\n",
    "y_pred_11  =  classifier1.predict(X_test_11)\n",
    "#from sklearn.metrics import confusion_matrix,accuracy_score\n",
    "#cm = print(confusion_matrix(y_test, y_pred))\n",
    "print(accuracy_score(y_test_11,y_pred_11))\n",
    "print(classification_report(y_test_11, y_pred_11))"
   ]
  },
  {
   "cell_type": "code",
   "execution_count": 31,
   "id": "befeb105",
   "metadata": {},
   "outputs": [
    {
     "name": "stdout",
     "output_type": "stream",
     "text": [
      "0.6998945244148543\n",
      "              precision    recall  f1-score   support\n",
      "\n",
      "           0       0.70      1.00      0.82    114796\n",
      "           1       0.00      0.00      0.00     49223\n",
      "\n",
      "    accuracy                           0.70    164019\n",
      "   macro avg       0.35      0.50      0.41    164019\n",
      "weighted avg       0.49      0.70      0.58    164019\n",
      "\n"
     ]
    }
   ],
   "source": [
    "#Naive Bayes\n",
    "#10 features\n",
    "from sklearn.preprocessing import StandardScaler\n",
    "sc = StandardScaler()\n",
    "X_train = sc.fit_transform(X_train_10)\n",
    "X_test = sc.transform(X_test_10)\n",
    "from sklearn.naive_bayes import GaussianNB\n",
    "classifier1 = GaussianNB()\n",
    "classifier1.fit(X_train_10, y_train_10)\n",
    "GaussianNB()\n",
    "y_pred_10 =  classifier1.predict(X_test_10)\n",
    "#from sklearn.metrics import confusion_matrix,accuracy_score\n",
    "#cm = print(confusion_matrix(y_test, y_pred))\n",
    "print(accuracy_score(y_test_10,y_pred_10))\n",
    "print(classification_report(y_test_10, y_pred_10))"
   ]
  },
  {
   "cell_type": "code",
   "execution_count": null,
   "id": "d7238c74",
   "metadata": {},
   "outputs": [],
   "source": []
  }
 ],
 "metadata": {
  "kernelspec": {
   "display_name": "Python 3 (ipykernel)",
   "language": "python",
   "name": "python3"
  },
  "language_info": {
   "codemirror_mode": {
    "name": "ipython",
    "version": 3
   },
   "file_extension": ".py",
   "mimetype": "text/x-python",
   "name": "python",
   "nbconvert_exporter": "python",
   "pygments_lexer": "ipython3",
   "version": "3.8.12"
  }
 },
 "nbformat": 4,
 "nbformat_minor": 5
}
