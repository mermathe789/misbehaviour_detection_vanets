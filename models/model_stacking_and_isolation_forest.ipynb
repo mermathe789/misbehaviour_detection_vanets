{
  "cells": [
    {
      "cell_type": "markdown",
      "metadata": {},
      "source": [
        "* This file uses source of dataset as 1416 csv file dataset which is extracted using the data extraction script.\n",
        "* The dataset is cleaned and formatted.\n",
        "* Feature engineering is done to create features like distance and displacement\n",
        "* Set of simple learning models with hyper-parameter optimisation is done to form stack ensemble model\n",
        "* Isolation forest model is also done\n"
      ]
    },
    {
      "cell_type": "code",
      "execution_count": 3,
      "metadata": {
        "id": "fDBQgAX_Ol0k"
      },
      "outputs": [],
      "source": [
        "# Importing required packages\n",
        "import glob\n",
        "from operator import contains\n",
        "import os, json\n",
        "import pandas as pd\n",
        "import numpy as np\n",
        "import seaborn as sns\n",
        "import matplotlib.pyplot as plt\n",
        "from datetime import datetime\n",
        "import warnings\n",
        "import re\n",
        "from sklearn.metrics import recall_score\n",
        "from sklearn.metrics import precision_score\n",
        "from sklearn.metrics import f1_score\n",
        "from sklearn.tree import DecisionTreeClassifier\n",
        "from sklearn.ensemble import RandomForestClassifier\n",
        "from sklearn.model_selection import GridSearchCV\n",
        "from sklearn.linear_model import LogisticRegression\n",
        "from sklearn.metrics import accuracy_score,classification_report,confusion_matrix\n",
        "from sklearn.metrics import roc_auc_score\n",
        "from sklearn.metrics import accuracy_score\n",
        "from scipy.stats import sem\n",
        "from numpy import mean\n",
        "from numpy import std\n",
        "from sklearn.model_selection import KFold\n",
        "from sklearn.model_selection import RepeatedKFold\n",
        "from sklearn.model_selection import cross_val_score\n",
        "from sklearn.model_selection import cross_validate\n",
        "warnings.filterwarnings('ignore')\n",
        "pd.options.display.float_format = '{:.15f}'.format\n",
        "import datetime as dt\n",
        "from sklearn.ensemble import IsolationForest\n"
      ]
    },
    {
      "cell_type": "code",
      "execution_count": 4,
      "metadata": {
        "colab": {
          "base_uri": "https://localhost:8080/"
        },
        "id": "zjSO5_f5RzQJ",
        "outputId": "4e33442c-112f-4394-d263-0aa2159e8163"
      },
      "outputs": [],
      "source": [
        "# from google.colab import drive\n",
        "# drive.mount('/content/drive')\n",
        "# %cd /content/drive/My Drive/Colab Notebooks/Mercy"
      ]
    },
    {
      "cell_type": "code",
      "execution_count": 5,
      "metadata": {
        "colab": {
          "base_uri": "https://localhost:8080/",
          "height": 473
        },
        "id": "JKsSVXp0O32w",
        "outputId": "936d2231-edb6-49b3-d40e-a87d6aadc5e5"
      },
      "outputs": [
        {
          "data": {
            "text/html": [
              "<div>\n",
              "<style scoped>\n",
              "    .dataframe tbody tr th:only-of-type {\n",
              "        vertical-align: middle;\n",
              "    }\n",
              "\n",
              "    .dataframe tbody tr th {\n",
              "        vertical-align: top;\n",
              "    }\n",
              "\n",
              "    .dataframe thead th {\n",
              "        text-align: right;\n",
              "    }\n",
              "</style>\n",
              "<table border=\"1\" class=\"dataframe\">\n",
              "  <thead>\n",
              "    <tr style=\"text-align: right;\">\n",
              "      <th></th>\n",
              "      <th>type</th>\n",
              "      <th>rcvTime</th>\n",
              "      <th>sendTime</th>\n",
              "      <th>sender</th>\n",
              "      <th>senderPseudo</th>\n",
              "      <th>messageID</th>\n",
              "      <th>file_name</th>\n",
              "      <th>density_level</th>\n",
              "      <th>pos_x</th>\n",
              "      <th>pos_y</th>\n",
              "      <th>...</th>\n",
              "      <th>acl_noise_y</th>\n",
              "      <th>acl_noise_z</th>\n",
              "      <th>hed_x</th>\n",
              "      <th>hed_y</th>\n",
              "      <th>hed_z</th>\n",
              "      <th>hed_noise_x</th>\n",
              "      <th>hed_noise_y</th>\n",
              "      <th>hed_noise_z</th>\n",
              "      <th>attack?</th>\n",
              "      <th>receiver_id</th>\n",
              "    </tr>\n",
              "  </thead>\n",
              "  <tbody>\n",
              "    <tr>\n",
              "      <th>0</th>\n",
              "      <td>3</td>\n",
              "      <td>57511.049951916953432</td>\n",
              "      <td>57511.049951916953432</td>\n",
              "      <td>9891.000000000000000</td>\n",
              "      <td>1098915.000000000000000</td>\n",
              "      <td>19655176.000000000000000</td>\n",
              "      <td>traceJSON-10005-10003-A0-57511-15</td>\n",
              "      <td>2</td>\n",
              "      <td>137.286902555145161</td>\n",
              "      <td>983.827257071713575</td>\n",
              "      <td>...</td>\n",
              "      <td>0.000021258383547</td>\n",
              "      <td>0.000000000000000</td>\n",
              "      <td>-0.036686450374153</td>\n",
              "      <td>0.999326825597584</td>\n",
              "      <td>0.000000000000000</td>\n",
              "      <td>4.249188192325861</td>\n",
              "      <td>0.982232769632962</td>\n",
              "      <td>0.000000000000000</td>\n",
              "      <td>1</td>\n",
              "      <td>10005</td>\n",
              "    </tr>\n",
              "    <tr>\n",
              "      <th>1</th>\n",
              "      <td>3</td>\n",
              "      <td>57511.146510437574761</td>\n",
              "      <td>57511.146510437574761</td>\n",
              "      <td>9951.000000000000000</td>\n",
              "      <td>1099515.000000000000000</td>\n",
              "      <td>19655429.000000000000000</td>\n",
              "      <td>traceJSON-10005-10003-A0-57511-15</td>\n",
              "      <td>2</td>\n",
              "      <td>153.904668561966304</td>\n",
              "      <td>899.505911646706977</td>\n",
              "      <td>...</td>\n",
              "      <td>0.000000000000013</td>\n",
              "      <td>0.000000000000000</td>\n",
              "      <td>0.038287039242177</td>\n",
              "      <td>-0.999266782509089</td>\n",
              "      <td>0.000000000000000</td>\n",
              "      <td>9.636084890334937</td>\n",
              "      <td>12.342153049505139</td>\n",
              "      <td>0.000000000000000</td>\n",
              "      <td>1</td>\n",
              "      <td>10005</td>\n",
              "    </tr>\n",
              "    <tr>\n",
              "      <th>2</th>\n",
              "      <td>3</td>\n",
              "      <td>57511.162338829126384</td>\n",
              "      <td>57511.162338829126384</td>\n",
              "      <td>10011.000000000000000</td>\n",
              "      <td>10100115.000000000000000</td>\n",
              "      <td>19655584.000000000000000</td>\n",
              "      <td>traceJSON-10005-10003-A0-57511-15</td>\n",
              "      <td>2</td>\n",
              "      <td>142.981000552607952</td>\n",
              "      <td>1038.129049878944215</td>\n",
              "      <td>...</td>\n",
              "      <td>0.000424009628911</td>\n",
              "      <td>0.000000000000000</td>\n",
              "      <td>0.073948678480006</td>\n",
              "      <td>-0.997262048285735</td>\n",
              "      <td>0.000000000000000</td>\n",
              "      <td>7.179251774207310</td>\n",
              "      <td>7.627622845974860</td>\n",
              "      <td>0.000000000000000</td>\n",
              "      <td>1</td>\n",
              "      <td>10005</td>\n",
              "    </tr>\n",
              "    <tr>\n",
              "      <th>3</th>\n",
              "      <td>3</td>\n",
              "      <td>57511.590730855474249</td>\n",
              "      <td>57511.590730855474249</td>\n",
              "      <td>9957.000000000000000</td>\n",
              "      <td>1099575.000000000000000</td>\n",
              "      <td>19656248.000000000000000</td>\n",
              "      <td>traceJSON-10005-10003-A0-57511-15</td>\n",
              "      <td>2</td>\n",
              "      <td>149.931080349069163</td>\n",
              "      <td>899.035172728899624</td>\n",
              "      <td>...</td>\n",
              "      <td>0.000000000062721</td>\n",
              "      <td>0.000000000000000</td>\n",
              "      <td>0.016440994151280</td>\n",
              "      <td>-0.999864837721238</td>\n",
              "      <td>0.000000000000000</td>\n",
              "      <td>16.013310920410738</td>\n",
              "      <td>21.388849080932467</td>\n",
              "      <td>0.000000000000000</td>\n",
              "      <td>0</td>\n",
              "      <td>10005</td>\n",
              "    </tr>\n",
              "    <tr>\n",
              "      <th>4</th>\n",
              "      <td>3</td>\n",
              "      <td>57511.641619857240585</td>\n",
              "      <td>57511.641619857240585</td>\n",
              "      <td>9963.000000000000000</td>\n",
              "      <td>1099635.000000000000000</td>\n",
              "      <td>19656466.000000000000000</td>\n",
              "      <td>traceJSON-10005-10003-A0-57511-15</td>\n",
              "      <td>2</td>\n",
              "      <td>152.753405416050725</td>\n",
              "      <td>906.773024725052210</td>\n",
              "      <td>...</td>\n",
              "      <td>0.000000000000000</td>\n",
              "      <td>0.000000000000000</td>\n",
              "      <td>0.047863865685627</td>\n",
              "      <td>-0.998853868371959</td>\n",
              "      <td>0.000000000000000</td>\n",
              "      <td>6.510268774099048</td>\n",
              "      <td>7.224761247950584</td>\n",
              "      <td>0.000000000000000</td>\n",
              "      <td>0</td>\n",
              "      <td>10005</td>\n",
              "    </tr>\n",
              "  </tbody>\n",
              "</table>\n",
              "<p>5 rows × 34 columns</p>\n",
              "</div>"
            ],
            "text/plain": [
              "   type               rcvTime              sendTime                sender  \\\n",
              "0     3 57511.049951916953432 57511.049951916953432  9891.000000000000000   \n",
              "1     3 57511.146510437574761 57511.146510437574761  9951.000000000000000   \n",
              "2     3 57511.162338829126384 57511.162338829126384 10011.000000000000000   \n",
              "3     3 57511.590730855474249 57511.590730855474249  9957.000000000000000   \n",
              "4     3 57511.641619857240585 57511.641619857240585  9963.000000000000000   \n",
              "\n",
              "              senderPseudo                messageID  \\\n",
              "0  1098915.000000000000000 19655176.000000000000000   \n",
              "1  1099515.000000000000000 19655429.000000000000000   \n",
              "2 10100115.000000000000000 19655584.000000000000000   \n",
              "3  1099575.000000000000000 19656248.000000000000000   \n",
              "4  1099635.000000000000000 19656466.000000000000000   \n",
              "\n",
              "                           file_name  density_level               pos_x  \\\n",
              "0  traceJSON-10005-10003-A0-57511-15              2 137.286902555145161   \n",
              "1  traceJSON-10005-10003-A0-57511-15              2 153.904668561966304   \n",
              "2  traceJSON-10005-10003-A0-57511-15              2 142.981000552607952   \n",
              "3  traceJSON-10005-10003-A0-57511-15              2 149.931080349069163   \n",
              "4  traceJSON-10005-10003-A0-57511-15              2 152.753405416050725   \n",
              "\n",
              "                 pos_y  ...       acl_noise_y       acl_noise_z  \\\n",
              "0  983.827257071713575  ... 0.000021258383547 0.000000000000000   \n",
              "1  899.505911646706977  ... 0.000000000000013 0.000000000000000   \n",
              "2 1038.129049878944215  ... 0.000424009628911 0.000000000000000   \n",
              "3  899.035172728899624  ... 0.000000000062721 0.000000000000000   \n",
              "4  906.773024725052210  ... 0.000000000000000 0.000000000000000   \n",
              "\n",
              "               hed_x              hed_y             hed_z        hed_noise_x  \\\n",
              "0 -0.036686450374153  0.999326825597584 0.000000000000000  4.249188192325861   \n",
              "1  0.038287039242177 -0.999266782509089 0.000000000000000  9.636084890334937   \n",
              "2  0.073948678480006 -0.997262048285735 0.000000000000000  7.179251774207310   \n",
              "3  0.016440994151280 -0.999864837721238 0.000000000000000 16.013310920410738   \n",
              "4  0.047863865685627 -0.998853868371959 0.000000000000000  6.510268774099048   \n",
              "\n",
              "         hed_noise_y       hed_noise_z  attack?  receiver_id  \n",
              "0  0.982232769632962 0.000000000000000        1        10005  \n",
              "1 12.342153049505139 0.000000000000000        1        10005  \n",
              "2  7.627622845974860 0.000000000000000        1        10005  \n",
              "3 21.388849080932467 0.000000000000000        0        10005  \n",
              "4  7.224761247950584 0.000000000000000        0        10005  \n",
              "\n",
              "[5 rows x 34 columns]"
            ]
          },
          "execution_count": 5,
          "metadata": {},
          "output_type": "execute_result"
        }
      ],
      "source": [
        "# Importing the csv file\n",
        "# data = pd.read_csv('C:/Users/CJ/final.csv')\n",
        "# data = pd.read_csv('final.csv')\n",
        "data = pd.read_csv('final_1416.csv')\n",
        "# data = pd.read_csv('D:/clair/notes/Sem4/Capstone/dataset/export/feb_26_v_1.0/VeReMi_54000_57600_2019-11-28_10_42_1.csv')\n",
        "data.head()"
      ]
    },
    {
      "cell_type": "code",
      "execution_count": 6,
      "metadata": {
        "colab": {
          "base_uri": "https://localhost:8080/"
        },
        "id": "vUIb-pPmP2PI",
        "outputId": "0e1c7a25-b9e9-4261-bfeb-20f81c8cb53d"
      },
      "outputs": [
        {
          "name": "stdout",
          "output_type": "stream",
          "text": [
            "<class 'pandas.core.frame.DataFrame'>\n",
            "RangeIndex: 820097 entries, 0 to 820096\n",
            "Data columns (total 34 columns):\n",
            " #   Column         Non-Null Count   Dtype  \n",
            "---  ------         --------------   -----  \n",
            " 0   type           820097 non-null  int64  \n",
            " 1   rcvTime        820097 non-null  float64\n",
            " 2   sendTime       820097 non-null  float64\n",
            " 3   sender         820097 non-null  float64\n",
            " 4   senderPseudo   820097 non-null  float64\n",
            " 5   messageID      820097 non-null  float64\n",
            " 6   file_name      820097 non-null  object \n",
            " 7   density_level  820097 non-null  int64  \n",
            " 8   pos_x          820097 non-null  float64\n",
            " 9   pos_y          820097 non-null  float64\n",
            " 10  pos_z          820097 non-null  float64\n",
            " 11  pos_noise_x    820097 non-null  float64\n",
            " 12  pos_noise_y    820097 non-null  float64\n",
            " 13  pos_noise_z    820097 non-null  float64\n",
            " 14  spd_x          820097 non-null  float64\n",
            " 15  spd_y          820097 non-null  float64\n",
            " 16  spd_z          820097 non-null  float64\n",
            " 17  spd_noise_x    820097 non-null  float64\n",
            " 18  spd_noise_y    820097 non-null  float64\n",
            " 19  spd_noise_z    820097 non-null  float64\n",
            " 20  acl_x          820097 non-null  float64\n",
            " 21  acl_y          820097 non-null  float64\n",
            " 22  acl_z          820097 non-null  float64\n",
            " 23  acl_noise_x    820097 non-null  float64\n",
            " 24  acl_noise_y    820097 non-null  float64\n",
            " 25  acl_noise_z    820097 non-null  float64\n",
            " 26  hed_x          820097 non-null  float64\n",
            " 27  hed_y          820097 non-null  float64\n",
            " 28  hed_z          820097 non-null  float64\n",
            " 29  hed_noise_x    820097 non-null  float64\n",
            " 30  hed_noise_y    820097 non-null  float64\n",
            " 31  hed_noise_z    820097 non-null  float64\n",
            " 32  attack?        820097 non-null  int64  \n",
            " 33  receiver_id    820097 non-null  int64  \n",
            "dtypes: float64(29), int64(4), object(1)\n",
            "memory usage: 212.7+ MB\n"
          ]
        }
      ],
      "source": [
        "data.info()"
      ]
    },
    {
      "cell_type": "markdown",
      "metadata": {
        "id": "mnqeqa2AZahK"
      },
      "source": [
        "### Data Cleaning and formatting"
      ]
    },
    {
      "cell_type": "code",
      "execution_count": 7,
      "metadata": {
        "id": "xY2hugDzPACq"
      },
      "outputs": [],
      "source": [
        "from datetime import datetime\n",
        "#Dropping the columns that are of no use\n",
        "data.drop(['type'],axis=1,inplace=True)\n",
        "data.drop(['pos_z'],axis=1,inplace=True)\n",
        "data.drop(['spd_z'],axis=1,inplace=True)\n",
        "data.drop(['acl_z'],axis=1,inplace=True)\n",
        "data.drop(['hed_z'],axis=1,inplace=True)\n",
        "data['rcvTime_numeric'] = data['rcvTime']\n",
        "data['sendTime_numeric'] = data['sendTime']\n",
        "data[['rcvTime','sendTime']]  = data[['rcvTime','sendTime']].apply(pd.to_datetime)\n",
        "data[['sender','messageID']]  = data[['sender','messageID']].fillna(0.0).astype(int)\n",
        "data.rename(columns = {'attack?':'attack'}, inplace = True)\n",
        "data['rcvTimeAsTime'] = data['rcvTime'].map(dt.datetime.time)\n",
        "# apply(datetime.time)\n",
        "#Dropping the columns with noise\n",
        "for i in data.columns:\n",
        "    if 'noise' in i:\n",
        "        data.drop(i, axis=1, inplace=True)\n",
        "\n",
        "\n"
      ]
    },
    {
      "cell_type": "code",
      "execution_count": null,
      "metadata": {
        "id": "ZZcWiNmjoUKp"
      },
      "outputs": [],
      "source": [
        "\n"
      ]
    },
    {
      "cell_type": "code",
      "execution_count": 8,
      "metadata": {
        "colab": {
          "base_uri": "https://localhost:8080/",
          "height": 921
        },
        "id": "1fx-R73iocei",
        "outputId": "ac22bc3e-b7be-4ecd-fe29-a3051710bd81"
      },
      "outputs": [
        {
          "name": "stdout",
          "output_type": "stream",
          "text": [
            "<class 'pandas.core.frame.DataFrame'>\n",
            "RangeIndex: 820097 entries, 0 to 820096\n",
            "Data columns (total 20 columns):\n",
            " #   Column            Non-Null Count   Dtype         \n",
            "---  ------            --------------   -----         \n",
            " 0   rcvTime           820097 non-null  datetime64[ns]\n",
            " 1   sendTime          820097 non-null  datetime64[ns]\n",
            " 2   sender            820097 non-null  int32         \n",
            " 3   senderPseudo      820097 non-null  float64       \n",
            " 4   messageID         820097 non-null  int32         \n",
            " 5   file_name         820097 non-null  object        \n",
            " 6   density_level     820097 non-null  int64         \n",
            " 7   pos_x             820097 non-null  float64       \n",
            " 8   pos_y             820097 non-null  float64       \n",
            " 9   spd_x             820097 non-null  float64       \n",
            " 10  spd_y             820097 non-null  float64       \n",
            " 11  acl_x             820097 non-null  float64       \n",
            " 12  acl_y             820097 non-null  float64       \n",
            " 13  hed_x             820097 non-null  float64       \n",
            " 14  hed_y             820097 non-null  float64       \n",
            " 15  attack            820097 non-null  int64         \n",
            " 16  receiver_id       820097 non-null  int64         \n",
            " 17  rcvTime_numeric   820097 non-null  float64       \n",
            " 18  sendTime_numeric  820097 non-null  float64       \n",
            " 19  rcvTimeAsTime     820097 non-null  object        \n",
            "dtypes: datetime64[ns](2), float64(11), int32(2), int64(3), object(2)\n",
            "memory usage: 118.9+ MB\n"
          ]
        },
        {
          "data": {
            "text/html": [
              "<div>\n",
              "<style scoped>\n",
              "    .dataframe tbody tr th:only-of-type {\n",
              "        vertical-align: middle;\n",
              "    }\n",
              "\n",
              "    .dataframe tbody tr th {\n",
              "        vertical-align: top;\n",
              "    }\n",
              "\n",
              "    .dataframe thead th {\n",
              "        text-align: right;\n",
              "    }\n",
              "</style>\n",
              "<table border=\"1\" class=\"dataframe\">\n",
              "  <thead>\n",
              "    <tr style=\"text-align: right;\">\n",
              "      <th></th>\n",
              "      <th>rcvTime</th>\n",
              "      <th>sendTime</th>\n",
              "      <th>sender</th>\n",
              "      <th>senderPseudo</th>\n",
              "      <th>messageID</th>\n",
              "      <th>file_name</th>\n",
              "      <th>density_level</th>\n",
              "      <th>pos_x</th>\n",
              "      <th>pos_y</th>\n",
              "      <th>spd_x</th>\n",
              "      <th>spd_y</th>\n",
              "      <th>acl_x</th>\n",
              "      <th>acl_y</th>\n",
              "      <th>hed_x</th>\n",
              "      <th>hed_y</th>\n",
              "      <th>attack</th>\n",
              "      <th>receiver_id</th>\n",
              "      <th>rcvTime_numeric</th>\n",
              "      <th>sendTime_numeric</th>\n",
              "      <th>rcvTimeAsTime</th>\n",
              "    </tr>\n",
              "  </thead>\n",
              "  <tbody>\n",
              "    <tr>\n",
              "      <th>0</th>\n",
              "      <td>1970-01-01 00:00:00.000057511</td>\n",
              "      <td>1970-01-01 00:00:00.000057511</td>\n",
              "      <td>9891</td>\n",
              "      <td>1098915.000000000000000</td>\n",
              "      <td>19655176</td>\n",
              "      <td>traceJSON-10005-10003-A0-57511-15</td>\n",
              "      <td>2</td>\n",
              "      <td>137.286902555145161</td>\n",
              "      <td>983.827257071713575</td>\n",
              "      <td>1.354661693085098</td>\n",
              "      <td>3.904279797161307</td>\n",
              "      <td>0.034645573620179</td>\n",
              "      <td>-0.463354677954995</td>\n",
              "      <td>-0.036686450374153</td>\n",
              "      <td>0.999326825597584</td>\n",
              "      <td>1</td>\n",
              "      <td>10005</td>\n",
              "      <td>57511.049951916953432</td>\n",
              "      <td>57511.049951916953432</td>\n",
              "      <td>00:00:00.000057</td>\n",
              "    </tr>\n",
              "    <tr>\n",
              "      <th>1</th>\n",
              "      <td>1970-01-01 00:00:00.000057511</td>\n",
              "      <td>1970-01-01 00:00:00.000057511</td>\n",
              "      <td>9951</td>\n",
              "      <td>1099515.000000000000000</td>\n",
              "      <td>19655429</td>\n",
              "      <td>traceJSON-10005-10003-A0-57511-15</td>\n",
              "      <td>2</td>\n",
              "      <td>153.904668561966304</td>\n",
              "      <td>899.505911646706977</td>\n",
              "      <td>19.671425131174317</td>\n",
              "      <td>13.272349119084248</td>\n",
              "      <td>0.154777773706633</td>\n",
              "      <td>-2.049693655257135</td>\n",
              "      <td>0.038287039242177</td>\n",
              "      <td>-0.999266782509089</td>\n",
              "      <td>1</td>\n",
              "      <td>10005</td>\n",
              "      <td>57511.146510437574761</td>\n",
              "      <td>57511.146510437574761</td>\n",
              "      <td>00:00:00.000057</td>\n",
              "    </tr>\n",
              "    <tr>\n",
              "      <th>2</th>\n",
              "      <td>1970-01-01 00:00:00.000057511</td>\n",
              "      <td>1970-01-01 00:00:00.000057511</td>\n",
              "      <td>10011</td>\n",
              "      <td>10100115.000000000000000</td>\n",
              "      <td>19655584</td>\n",
              "      <td>traceJSON-10005-10003-A0-57511-15</td>\n",
              "      <td>2</td>\n",
              "      <td>142.981000552607952</td>\n",
              "      <td>1038.129049878944215</td>\n",
              "      <td>26.896996701957299</td>\n",
              "      <td>24.137761106685371</td>\n",
              "      <td>0.203488096706969</td>\n",
              "      <td>-2.744069501641253</td>\n",
              "      <td>0.073948678480006</td>\n",
              "      <td>-0.997262048285735</td>\n",
              "      <td>1</td>\n",
              "      <td>10005</td>\n",
              "      <td>57511.162338829126384</td>\n",
              "      <td>57511.162338829126384</td>\n",
              "      <td>00:00:00.000057</td>\n",
              "    </tr>\n",
              "    <tr>\n",
              "      <th>3</th>\n",
              "      <td>1970-01-01 00:00:00.000057511</td>\n",
              "      <td>1970-01-01 00:00:00.000057511</td>\n",
              "      <td>9957</td>\n",
              "      <td>1099575.000000000000000</td>\n",
              "      <td>19656248</td>\n",
              "      <td>traceJSON-10005-10003-A0-57511-15</td>\n",
              "      <td>2</td>\n",
              "      <td>149.931080349069163</td>\n",
              "      <td>899.035172728899624</td>\n",
              "      <td>0.206780659828718</td>\n",
              "      <td>-2.687713403544073</td>\n",
              "      <td>0.229570843679506</td>\n",
              "      <td>-2.986116588864178</td>\n",
              "      <td>0.016440994151280</td>\n",
              "      <td>-0.999864837721238</td>\n",
              "      <td>0</td>\n",
              "      <td>10005</td>\n",
              "      <td>57511.590730855474249</td>\n",
              "      <td>57511.590730855474249</td>\n",
              "      <td>00:00:00.000057</td>\n",
              "    </tr>\n",
              "    <tr>\n",
              "      <th>4</th>\n",
              "      <td>1970-01-01 00:00:00.000057511</td>\n",
              "      <td>1970-01-01 00:00:00.000057511</td>\n",
              "      <td>9963</td>\n",
              "      <td>1099635.000000000000000</td>\n",
              "      <td>19656466</td>\n",
              "      <td>traceJSON-10005-10003-A0-57511-15</td>\n",
              "      <td>2</td>\n",
              "      <td>152.753405416050725</td>\n",
              "      <td>906.773024725052210</td>\n",
              "      <td>0.071913888517510</td>\n",
              "      <td>-0.969420576222226</td>\n",
              "      <td>0.146568201862597</td>\n",
              "      <td>-1.975988839130557</td>\n",
              "      <td>0.047863865685627</td>\n",
              "      <td>-0.998853868371959</td>\n",
              "      <td>0</td>\n",
              "      <td>10005</td>\n",
              "      <td>57511.641619857240585</td>\n",
              "      <td>57511.641619857240585</td>\n",
              "      <td>00:00:00.000057</td>\n",
              "    </tr>\n",
              "  </tbody>\n",
              "</table>\n",
              "</div>"
            ],
            "text/plain": [
              "                        rcvTime                      sendTime  sender  \\\n",
              "0 1970-01-01 00:00:00.000057511 1970-01-01 00:00:00.000057511    9891   \n",
              "1 1970-01-01 00:00:00.000057511 1970-01-01 00:00:00.000057511    9951   \n",
              "2 1970-01-01 00:00:00.000057511 1970-01-01 00:00:00.000057511   10011   \n",
              "3 1970-01-01 00:00:00.000057511 1970-01-01 00:00:00.000057511    9957   \n",
              "4 1970-01-01 00:00:00.000057511 1970-01-01 00:00:00.000057511    9963   \n",
              "\n",
              "              senderPseudo  messageID                          file_name  \\\n",
              "0  1098915.000000000000000   19655176  traceJSON-10005-10003-A0-57511-15   \n",
              "1  1099515.000000000000000   19655429  traceJSON-10005-10003-A0-57511-15   \n",
              "2 10100115.000000000000000   19655584  traceJSON-10005-10003-A0-57511-15   \n",
              "3  1099575.000000000000000   19656248  traceJSON-10005-10003-A0-57511-15   \n",
              "4  1099635.000000000000000   19656466  traceJSON-10005-10003-A0-57511-15   \n",
              "\n",
              "   density_level               pos_x                pos_y              spd_x  \\\n",
              "0              2 137.286902555145161  983.827257071713575  1.354661693085098   \n",
              "1              2 153.904668561966304  899.505911646706977 19.671425131174317   \n",
              "2              2 142.981000552607952 1038.129049878944215 26.896996701957299   \n",
              "3              2 149.931080349069163  899.035172728899624  0.206780659828718   \n",
              "4              2 152.753405416050725  906.773024725052210  0.071913888517510   \n",
              "\n",
              "               spd_y             acl_x              acl_y              hed_x  \\\n",
              "0  3.904279797161307 0.034645573620179 -0.463354677954995 -0.036686450374153   \n",
              "1 13.272349119084248 0.154777773706633 -2.049693655257135  0.038287039242177   \n",
              "2 24.137761106685371 0.203488096706969 -2.744069501641253  0.073948678480006   \n",
              "3 -2.687713403544073 0.229570843679506 -2.986116588864178  0.016440994151280   \n",
              "4 -0.969420576222226 0.146568201862597 -1.975988839130557  0.047863865685627   \n",
              "\n",
              "               hed_y  attack  receiver_id       rcvTime_numeric  \\\n",
              "0  0.999326825597584       1        10005 57511.049951916953432   \n",
              "1 -0.999266782509089       1        10005 57511.146510437574761   \n",
              "2 -0.997262048285735       1        10005 57511.162338829126384   \n",
              "3 -0.999864837721238       0        10005 57511.590730855474249   \n",
              "4 -0.998853868371959       0        10005 57511.641619857240585   \n",
              "\n",
              "       sendTime_numeric    rcvTimeAsTime  \n",
              "0 57511.049951916953432  00:00:00.000057  \n",
              "1 57511.146510437574761  00:00:00.000057  \n",
              "2 57511.162338829126384  00:00:00.000057  \n",
              "3 57511.590730855474249  00:00:00.000057  \n",
              "4 57511.641619857240585  00:00:00.000057  "
            ]
          },
          "execution_count": 8,
          "metadata": {},
          "output_type": "execute_result"
        }
      ],
      "source": [
        "data.info()\n",
        "data.head()"
      ]
    },
    {
      "cell_type": "code",
      "execution_count": 9,
      "metadata": {
        "id": "3UCgeNmbPDhK"
      },
      "outputs": [],
      "source": [
        "\n",
        "data.drop(['file_name'], axis=1, inplace=True)\n",
        "data['sendTime_numeric']=data['sendTime'].map(dt.datetime.toordinal)\n",
        "data['rcvTime_numeric']=data['rcvTime'].map(dt.datetime.toordinal)"
      ]
    },
    {
      "cell_type": "markdown",
      "metadata": {
        "id": "26A_ZvEJZJUt"
      },
      "source": [
        "### New Feature Generation"
      ]
    },
    {
      "cell_type": "code",
      "execution_count": 10,
      "metadata": {
        "id": "Rxzdkkn8bFG4"
      },
      "outputs": [],
      "source": [
        "# skip the cells from running\n",
        "# %%script echo skipping\n",
        "from datetime import timedelta\n",
        "data['pos_x_diff'] = data.sort_values([\"sender\",\"sendTime\", \"messageID\"]).groupby([\"sender\", \"receiver_id\"])['pos_x'].diff()\n",
        "data['pos_y_diff'] = data.sort_values([\"sender\",\"sendTime\",\"messageID\",]).groupby([\"sender\", \"receiver_id\"])['pos_y'].diff()\n",
        "# dividing pos_y_diff by pos_x_diff and store it in y_diff/x_diff\n",
        "data[\"y_diff/x_diff\"] = data[\"pos_y_diff\"].apply(lambda x: float(x)) / data[\"pos_x_diff\"].apply(lambda x: float(x))\n",
        "# Using Pythagorean Theorem calculating distance\n",
        "data['distance_eu'] = np.sqrt((data['pos_x_diff']**2 + data['pos_y_diff']**2))\n",
        "data[\"dis_angle\"] = np.degrees(np.arctan(data[\"y_diff/x_diff\"]))\n",
        "data.drop(columns = ['pos_x_diff', 'pos_y_diff','y_diff/x_diff'], inplace = True)\n",
        "data.fillna(0, inplace=True)\n",
        "data.reset_index(drop=True, inplace=True)"
      ]
    },
    {
      "cell_type": "markdown",
      "metadata": {
        "id": "16D5DJa2Zf9w"
      },
      "source": [
        "### Sorting data by receive time and splitting data for training"
      ]
    },
    {
      "cell_type": "code",
      "execution_count": 11,
      "metadata": {
        "colab": {
          "base_uri": "https://localhost:8080/",
          "height": 386
        },
        "id": "JTlwRf8hHj94",
        "outputId": "3498370e-de2a-45da-9eab-9765a28d0b04"
      },
      "outputs": [
        {
          "data": {
            "text/html": [
              "<div>\n",
              "<style scoped>\n",
              "    .dataframe tbody tr th:only-of-type {\n",
              "        vertical-align: middle;\n",
              "    }\n",
              "\n",
              "    .dataframe tbody tr th {\n",
              "        vertical-align: top;\n",
              "    }\n",
              "\n",
              "    .dataframe thead th {\n",
              "        text-align: right;\n",
              "    }\n",
              "</style>\n",
              "<table border=\"1\" class=\"dataframe\">\n",
              "  <thead>\n",
              "    <tr style=\"text-align: right;\">\n",
              "      <th></th>\n",
              "      <th>rcvTime</th>\n",
              "      <th>sendTime</th>\n",
              "      <th>sender</th>\n",
              "      <th>senderPseudo</th>\n",
              "      <th>messageID</th>\n",
              "      <th>density_level</th>\n",
              "      <th>pos_x</th>\n",
              "      <th>pos_y</th>\n",
              "      <th>spd_x</th>\n",
              "      <th>spd_y</th>\n",
              "      <th>...</th>\n",
              "      <th>acl_y</th>\n",
              "      <th>hed_x</th>\n",
              "      <th>hed_y</th>\n",
              "      <th>attack</th>\n",
              "      <th>receiver_id</th>\n",
              "      <th>rcvTime_numeric</th>\n",
              "      <th>sendTime_numeric</th>\n",
              "      <th>rcvTimeAsTime</th>\n",
              "      <th>distance_eu</th>\n",
              "      <th>dis_angle</th>\n",
              "    </tr>\n",
              "  </thead>\n",
              "  <tbody>\n",
              "    <tr>\n",
              "      <th>0</th>\n",
              "      <td>1970-01-01 00:00:00.000050408</td>\n",
              "      <td>1970-01-01 00:00:00.000050408</td>\n",
              "      <td>21</td>\n",
              "      <td>10215.000000000000000</td>\n",
              "      <td>16936</td>\n",
              "      <td>2</td>\n",
              "      <td>220.317917303648272</td>\n",
              "      <td>383.934935437669594</td>\n",
              "      <td>-0.078168163622794</td>\n",
              "      <td>0.525905153291198</td>\n",
              "      <td>...</td>\n",
              "      <td>2.616637002617828</td>\n",
              "      <td>-0.142980189511322</td>\n",
              "      <td>0.989725550547881</td>\n",
              "      <td>0</td>\n",
              "      <td>27</td>\n",
              "      <td>719163</td>\n",
              "      <td>719163</td>\n",
              "      <td>00:00:00.000050</td>\n",
              "      <td>0.000000000000000</td>\n",
              "      <td>0.000000000000000</td>\n",
              "    </tr>\n",
              "    <tr>\n",
              "      <th>1</th>\n",
              "      <td>1970-01-01 00:00:00.000050408</td>\n",
              "      <td>1970-01-01 00:00:00.000050408</td>\n",
              "      <td>27</td>\n",
              "      <td>10275.000000000000000</td>\n",
              "      <td>17018</td>\n",
              "      <td>2</td>\n",
              "      <td>223.030520488101104</td>\n",
              "      <td>364.802884416285281</td>\n",
              "      <td>-0.079870635180307</td>\n",
              "      <td>0.537359158655796</td>\n",
              "      <td>...</td>\n",
              "      <td>2.613037040001825</td>\n",
              "      <td>-0.147020325879710</td>\n",
              "      <td>0.989133471164647</td>\n",
              "      <td>0</td>\n",
              "      <td>21</td>\n",
              "      <td>719163</td>\n",
              "      <td>719163</td>\n",
              "      <td>00:00:00.000050</td>\n",
              "      <td>0.000000000000000</td>\n",
              "      <td>0.000000000000000</td>\n",
              "    </tr>\n",
              "    <tr>\n",
              "      <th>2</th>\n",
              "      <td>1970-01-01 00:00:00.000050409</td>\n",
              "      <td>1970-01-01 00:00:00.000050409</td>\n",
              "      <td>21</td>\n",
              "      <td>10215.000000000000000</td>\n",
              "      <td>17075</td>\n",
              "      <td>2</td>\n",
              "      <td>219.947049702855480</td>\n",
              "      <td>385.757716338412308</td>\n",
              "      <td>-0.421900962680975</td>\n",
              "      <td>2.838498011407711</td>\n",
              "      <td>...</td>\n",
              "      <td>2.169566146413223</td>\n",
              "      <td>-0.142233817434146</td>\n",
              "      <td>0.989833087534514</td>\n",
              "      <td>0</td>\n",
              "      <td>27</td>\n",
              "      <td>719163</td>\n",
              "      <td>719163</td>\n",
              "      <td>00:00:00.000050</td>\n",
              "      <td>1.860127143350750</td>\n",
              "      <td>-78.499437520680715</td>\n",
              "    </tr>\n",
              "    <tr>\n",
              "      <th>3</th>\n",
              "      <td>1970-01-01 00:00:00.000050409</td>\n",
              "      <td>1970-01-01 00:00:00.000050409</td>\n",
              "      <td>27</td>\n",
              "      <td>10275.000000000000000</td>\n",
              "      <td>17117</td>\n",
              "      <td>2</td>\n",
              "      <td>222.765622516565202</td>\n",
              "      <td>366.657630560278733</td>\n",
              "      <td>-0.419577828663898</td>\n",
              "      <td>2.822925004092247</td>\n",
              "      <td>...</td>\n",
              "      <td>2.425224516331284</td>\n",
              "      <td>-0.142064310031641</td>\n",
              "      <td>0.989857430044970</td>\n",
              "      <td>0</td>\n",
              "      <td>21</td>\n",
              "      <td>719163</td>\n",
              "      <td>719163</td>\n",
              "      <td>00:00:00.000050</td>\n",
              "      <td>1.873567237646521</td>\n",
              "      <td>-81.871888548926208</td>\n",
              "    </tr>\n",
              "    <tr>\n",
              "      <th>4</th>\n",
              "      <td>1970-01-01 00:00:00.000050410</td>\n",
              "      <td>1970-01-01 00:00:00.000050410</td>\n",
              "      <td>9</td>\n",
              "      <td>1095.000000000000000</td>\n",
              "      <td>17151</td>\n",
              "      <td>2</td>\n",
              "      <td>1197.362034797699152</td>\n",
              "      <td>971.768939400884392</td>\n",
              "      <td>-11.762703940887320</td>\n",
              "      <td>-2.110692806707845</td>\n",
              "      <td>...</td>\n",
              "      <td>-0.319738065392786</td>\n",
              "      <td>-0.992752282476080</td>\n",
              "      <td>-0.120178640525395</td>\n",
              "      <td>0</td>\n",
              "      <td>15</td>\n",
              "      <td>719163</td>\n",
              "      <td>719163</td>\n",
              "      <td>00:00:00.000050</td>\n",
              "      <td>0.000000000000000</td>\n",
              "      <td>0.000000000000000</td>\n",
              "    </tr>\n",
              "  </tbody>\n",
              "</table>\n",
              "<p>5 rows × 21 columns</p>\n",
              "</div>"
            ],
            "text/plain": [
              "                        rcvTime                      sendTime  sender  \\\n",
              "0 1970-01-01 00:00:00.000050408 1970-01-01 00:00:00.000050408      21   \n",
              "1 1970-01-01 00:00:00.000050408 1970-01-01 00:00:00.000050408      27   \n",
              "2 1970-01-01 00:00:00.000050409 1970-01-01 00:00:00.000050409      21   \n",
              "3 1970-01-01 00:00:00.000050409 1970-01-01 00:00:00.000050409      27   \n",
              "4 1970-01-01 00:00:00.000050410 1970-01-01 00:00:00.000050410       9   \n",
              "\n",
              "           senderPseudo  messageID  density_level                pos_x  \\\n",
              "0 10215.000000000000000      16936              2  220.317917303648272   \n",
              "1 10275.000000000000000      17018              2  223.030520488101104   \n",
              "2 10215.000000000000000      17075              2  219.947049702855480   \n",
              "3 10275.000000000000000      17117              2  222.765622516565202   \n",
              "4  1095.000000000000000      17151              2 1197.362034797699152   \n",
              "\n",
              "                pos_y               spd_x              spd_y  ...  \\\n",
              "0 383.934935437669594  -0.078168163622794  0.525905153291198  ...   \n",
              "1 364.802884416285281  -0.079870635180307  0.537359158655796  ...   \n",
              "2 385.757716338412308  -0.421900962680975  2.838498011407711  ...   \n",
              "3 366.657630560278733  -0.419577828663898  2.822925004092247  ...   \n",
              "4 971.768939400884392 -11.762703940887320 -2.110692806707845  ...   \n",
              "\n",
              "               acl_y              hed_x              hed_y  attack  \\\n",
              "0  2.616637002617828 -0.142980189511322  0.989725550547881       0   \n",
              "1  2.613037040001825 -0.147020325879710  0.989133471164647       0   \n",
              "2  2.169566146413223 -0.142233817434146  0.989833087534514       0   \n",
              "3  2.425224516331284 -0.142064310031641  0.989857430044970       0   \n",
              "4 -0.319738065392786 -0.992752282476080 -0.120178640525395       0   \n",
              "\n",
              "   receiver_id  rcvTime_numeric  sendTime_numeric    rcvTimeAsTime  \\\n",
              "0           27           719163            719163  00:00:00.000050   \n",
              "1           21           719163            719163  00:00:00.000050   \n",
              "2           27           719163            719163  00:00:00.000050   \n",
              "3           21           719163            719163  00:00:00.000050   \n",
              "4           15           719163            719163  00:00:00.000050   \n",
              "\n",
              "        distance_eu           dis_angle  \n",
              "0 0.000000000000000   0.000000000000000  \n",
              "1 0.000000000000000   0.000000000000000  \n",
              "2 1.860127143350750 -78.499437520680715  \n",
              "3 1.873567237646521 -81.871888548926208  \n",
              "4 0.000000000000000   0.000000000000000  \n",
              "\n",
              "[5 rows x 21 columns]"
            ]
          },
          "execution_count": 11,
          "metadata": {},
          "output_type": "execute_result"
        }
      ],
      "source": [
        "# Sorting by receive time\n",
        "data.sort_values(by=['rcvTime'], inplace=True)\n",
        "data.reset_index(drop=True, inplace=True)\n",
        "data.head()"
      ]
    },
    {
      "cell_type": "code",
      "execution_count": 12,
      "metadata": {
        "colab": {
          "base_uri": "https://localhost:8080/"
        },
        "id": "GGbfbUDTIfGU",
        "outputId": "a0744203-4979-435c-f6c6-a67529b02e37"
      },
      "outputs": [
        {
          "name": "stdout",
          "output_type": "stream",
          "text": [
            "total 820097 train_size 656078 test_size 164019\n"
          ]
        }
      ],
      "source": [
        "# Splitting the data into 80% as train and rest(20%) as test\n",
        "total_size = len(data)\n",
        "total_size\n",
        "train_size = round(total_size*.8)\n",
        "test_size = total_size - train_size\n",
        "print('total', total_size, 'train_size', train_size, 'test_size', test_size)"
      ]
    },
    {
      "cell_type": "code",
      "execution_count": 13,
      "metadata": {
        "colab": {
          "base_uri": "https://localhost:8080/"
        },
        "id": "4Vi-ZZCpncnz",
        "outputId": "3441fe3c-e433-4a2a-9737-8abd090addbd"
      },
      "outputs": [
        {
          "name": "stdout",
          "output_type": "stream",
          "text": [
            "train_data_size 656078 test_data_size 164019\n"
          ]
        }
      ],
      "source": [
        "# Populating train and test data based on the index calculated in above cell\n",
        "train_data = data[0:train_size]\n",
        "test_data = data[train_size:train_size+test_size]\n",
        "print('train_data_size', len(train_data), 'test_data_size', len(test_data))"
      ]
    },
    {
      "cell_type": "code",
      "execution_count": 14,
      "metadata": {
        "id": "zadaXXpUDm6a"
      },
      "outputs": [],
      "source": [
        "# 12 features\n",
        "X_train_12 = train_data[['messageID','sender','senderPseudo','pos_x','pos_y','spd_x','spd_y','acl_x','acl_y', 'hed_x','hed_y','rcvTime_numeric','distance_eu','dis_angle']]\n",
        "X_test_12 = test_data[['messageID','sender','senderPseudo','pos_x','pos_y','spd_x','spd_y','acl_x','acl_y', 'hed_x','hed_y','rcvTime_numeric','distance_eu','dis_angle']]\n",
        "y_train_12 = train_data[['attack']]\n",
        "y_test_12 = test_data[['attack']]"
      ]
    },
    {
      "cell_type": "code",
      "execution_count": null,
      "metadata": {
        "id": "bGiybsqNo8C9"
      },
      "outputs": [],
      "source": [
        "# 11 features\n",
        "X_train_11 = train_data[['messageID','senderPseudo','pos_x','pos_y','spd_x','spd_y','acl_x','acl_y', 'hed_x','hed_y','rcvTime_numeric']]\n",
        "X_test_11 = test_data[['messageID','senderPseudo','pos_x','pos_y','spd_x','spd_y','acl_x','acl_y', 'hed_x','hed_y','rcvTime_numeric']]\n",
        "y_train_11 = train_data[['attack']]\n",
        "y_test_11 = test_data[['attack']]"
      ]
    },
    {
      "cell_type": "code",
      "execution_count": null,
      "metadata": {
        "id": "6i_hqxA0pN4n"
      },
      "outputs": [],
      "source": [
        "# 10 features\n",
        "X_train_10 = train_data[['messageID','pos_x','pos_y','spd_x','spd_y','acl_x','acl_y', 'hed_x','hed_y','rcvTime_numeric']]\n",
        "X_test_10 = test_data[['messageID','pos_x','pos_y','spd_x','spd_y','acl_x','acl_y', 'hed_x','hed_y','rcvTime_numeric']]\n",
        "y_train_10 = train_data[['attack']]\n",
        "y_test_10 = test_data[['attack']]"
      ]
    },
    {
      "cell_type": "markdown",
      "metadata": {},
      "source": [
        "### SVM Classifier"
      ]
    },
    {
      "cell_type": "code",
      "execution_count": 15,
      "metadata": {},
      "outputs": [],
      "source": [
        "from sklearn.preprocessing import StandardScaler\n",
        "\n",
        "scaler = StandardScaler()\n",
        "\n",
        "X_train = scaler.fit_transform(X_train_12)\n",
        "\n",
        "X_test = scaler.transform(X_test_12)\n",
        "\n",
        "# import SVC classifier\n",
        "from sklearn.svm import SVC\n",
        "\n",
        "\n",
        "# import metrics to compute accuracy\n",
        "from sklearn.metrics import accuracy_score\n",
        "\n",
        "\n",
        "# instantiate classifier with default hyperparameters\n",
        "svc=SVC() \n",
        "\n",
        "\n",
        "# fit classifier to training set\n",
        "svc.fit(X_train,y_train_12)\n",
        "\n",
        "\n",
        "# make predictions on test set\n",
        "y_pred=svc.predict(X_test)\n",
        "\n",
        "\n",
        "# compute and print accuracy score\n",
        "print('Model accuracy score with default hyperparameters: {0:0.4f}'. format(accuracy_score(y_test_12, y_pred)))"
      ]
    },
    {
      "cell_type": "markdown",
      "metadata": {
        "id": "QmeXSLQ6umzD"
      },
      "source": [
        "### XGboost"
      ]
    },
    {
      "cell_type": "code",
      "execution_count": null,
      "metadata": {
        "colab": {
          "base_uri": "https://localhost:8080/"
        },
        "id": "BbCD_ZLEup2i",
        "outputId": "45219dbf-e099-43a4-a04b-2ce0094ef38a"
      },
      "outputs": [
        {
          "name": "stdout",
          "output_type": "stream",
          "text": [
            "Training accuracy : 0.992\n",
            "Test accuracy : 0.983\n"
          ]
        }
      ],
      "source": [
        "import xgboost as xgb\n",
        "model = xgb.XGBClassifier()\n",
        "model.fit(X_train_12,y_train_12)\n",
        "pred = model.predict(X_train_12)\n",
        "print(f'Training accuracy : {accuracy_score(y_train_12,pred):.3F}')\n",
        "\n",
        "pred = model.predict(X_test_12)\n",
        "print(f'Test accuracy : {accuracy_score(y_test_12,pred):.3F}')"
      ]
    },
    {
      "cell_type": "code",
      "execution_count": null,
      "metadata": {
        "colab": {
          "base_uri": "https://localhost:8080/"
        },
        "id": "_n0vosO7vR-r",
        "outputId": "44548814-153f-48b1-da44-44a2737e04f3"
      },
      "outputs": [
        {
          "name": "stdout",
          "output_type": "stream",
          "text": [
            "              precision    recall  f1-score   support\n",
            "\n",
            "           0       0.98      1.00      0.99    114796\n",
            "           1       1.00      0.95      0.97     49223\n",
            "\n",
            "    accuracy                           0.98    164019\n",
            "   macro avg       0.99      0.97      0.98    164019\n",
            "weighted avg       0.98      0.98      0.98    164019\n",
            "\n"
          ]
        }
      ],
      "source": [
        "\n",
        "print(classification_report(y_test_12,pred))"
      ]
    },
    {
      "cell_type": "markdown",
      "metadata": {
        "id": "Md04TEquCyGD"
      },
      "source": [
        "### Isolation Forest"
      ]
    },
    {
      "cell_type": "code",
      "execution_count": null,
      "metadata": {
        "colab": {
          "base_uri": "https://localhost:8080/"
        },
        "id": "zuiCPdxoC5Ob",
        "outputId": "8494e5bf-d2f2-42e3-fa06-493280620b62"
      },
      "outputs": [
        {
          "name": "stdout",
          "output_type": "stream",
          "text": [
            "{'bootstrap': False, 'contamination': 0.2, 'max_features': 1.0, 'max_samples': 'auto', 'n_estimators': 100, 'n_jobs': None, 'random_state': RandomState(MT19937) at 0x7F417EC3B380, 'verbose': 0, 'warm_start': False}\n"
          ]
        }
      ],
      "source": [
        "\n",
        "random_state = np.random.RandomState(42)\n",
        "model=IsolationForest(n_estimators=100,max_samples='auto',contamination=float(0.2),random_state=random_state)\n",
        "features_arr = ['pos_x','pos_y','spd_x','spd_y','acl_x','acl_y', 'hed_x','hed_y','rcvTime_numeric','distance_eu','dis_angle']\n",
        "model.fit(data[features_arr])\n",
        "\n",
        "print(model.get_params())"
      ]
    },
    {
      "cell_type": "code",
      "execution_count": null,
      "metadata": {
        "colab": {
          "base_uri": "https://localhost:8080/",
          "height": 386
        },
        "id": "8a8EnPqVDwJY",
        "outputId": "dee376ff-5670-4674-caa5-93d81d5f2286"
      },
      "outputs": [
        {
          "data": {
            "text/html": [
              "\n",
              "  <div id=\"df-232dca19-0fdc-499e-b4a4-2f9bf7b799ad\">\n",
              "    <div class=\"colab-df-container\">\n",
              "      <div>\n",
              "<style scoped>\n",
              "    .dataframe tbody tr th:only-of-type {\n",
              "        vertical-align: middle;\n",
              "    }\n",
              "\n",
              "    .dataframe tbody tr th {\n",
              "        vertical-align: top;\n",
              "    }\n",
              "\n",
              "    .dataframe thead th {\n",
              "        text-align: right;\n",
              "    }\n",
              "</style>\n",
              "<table border=\"1\" class=\"dataframe\">\n",
              "  <thead>\n",
              "    <tr style=\"text-align: right;\">\n",
              "      <th></th>\n",
              "      <th>rcvTime</th>\n",
              "      <th>sendTime</th>\n",
              "      <th>sender</th>\n",
              "      <th>senderPseudo</th>\n",
              "      <th>messageID</th>\n",
              "      <th>density_level</th>\n",
              "      <th>pos_x</th>\n",
              "      <th>pos_y</th>\n",
              "      <th>spd_x</th>\n",
              "      <th>spd_y</th>\n",
              "      <th>...</th>\n",
              "      <th>hed_x</th>\n",
              "      <th>hed_y</th>\n",
              "      <th>attack</th>\n",
              "      <th>receiver_id</th>\n",
              "      <th>rcvTime_numeric</th>\n",
              "      <th>sendTime_numeric</th>\n",
              "      <th>distance_eu</th>\n",
              "      <th>dis_angle</th>\n",
              "      <th>scores</th>\n",
              "      <th>anomaly_score</th>\n",
              "    </tr>\n",
              "  </thead>\n",
              "  <tbody>\n",
              "    <tr>\n",
              "      <th>1</th>\n",
              "      <td>1970-01-01 00:00:00.000025208</td>\n",
              "      <td>1970-01-01 00:00:00.000025208</td>\n",
              "      <td>15</td>\n",
              "      <td>10152.000000000000000</td>\n",
              "      <td>17038</td>\n",
              "      <td>1</td>\n",
              "      <td>136.075922480586854</td>\n",
              "      <td>1117.136648716594209</td>\n",
              "      <td>31.038549370162400</td>\n",
              "      <td>32.385018427083054</td>\n",
              "      <td>...</td>\n",
              "      <td>0.083291441902538</td>\n",
              "      <td>-0.996525230842549</td>\n",
              "      <td>1</td>\n",
              "      <td>21</td>\n",
              "      <td>719163</td>\n",
              "      <td>719163</td>\n",
              "      <td>0.000000000000000</td>\n",
              "      <td>0.000000000000000</td>\n",
              "      <td>-0.043038184944773</td>\n",
              "      <td>-1</td>\n",
              "    </tr>\n",
              "    <tr>\n",
              "      <th>5</th>\n",
              "      <td>1970-01-01 00:00:00.000025209</td>\n",
              "      <td>1970-01-01 00:00:00.000025209</td>\n",
              "      <td>15</td>\n",
              "      <td>10152.000000000000000</td>\n",
              "      <td>17187</td>\n",
              "      <td>1</td>\n",
              "      <td>136.577956230916584</td>\n",
              "      <td>1113.782918616124789</td>\n",
              "      <td>31.038549370162400</td>\n",
              "      <td>32.385018427083054</td>\n",
              "      <td>...</td>\n",
              "      <td>0.083291441902538</td>\n",
              "      <td>-0.996525230842549</td>\n",
              "      <td>1</td>\n",
              "      <td>21</td>\n",
              "      <td>719163</td>\n",
              "      <td>719163</td>\n",
              "      <td>3.391097679699711</td>\n",
              "      <td>-81.486373901858343</td>\n",
              "      <td>-0.043792247720177</td>\n",
              "      <td>-1</td>\n",
              "    </tr>\n",
              "    <tr>\n",
              "      <th>8</th>\n",
              "      <td>1970-01-01 00:00:00.000025210</td>\n",
              "      <td>1970-01-01 00:00:00.000025210</td>\n",
              "      <td>15</td>\n",
              "      <td>10152.000000000000000</td>\n",
              "      <td>21576</td>\n",
              "      <td>1</td>\n",
              "      <td>133.816727412066058</td>\n",
              "      <td>1108.007668533910419</td>\n",
              "      <td>31.038549370162400</td>\n",
              "      <td>32.385018427083054</td>\n",
              "      <td>...</td>\n",
              "      <td>0.083345069342663</td>\n",
              "      <td>-0.996520747107789</td>\n",
              "      <td>1</td>\n",
              "      <td>21</td>\n",
              "      <td>719163</td>\n",
              "      <td>719163</td>\n",
              "      <td>6.401398136514223</td>\n",
              "      <td>64.446876464180519</td>\n",
              "      <td>-0.043792247720177</td>\n",
              "      <td>-1</td>\n",
              "    </tr>\n",
              "    <tr>\n",
              "      <th>12</th>\n",
              "      <td>1970-01-01 00:00:00.000025211</td>\n",
              "      <td>1970-01-01 00:00:00.000025211</td>\n",
              "      <td>15</td>\n",
              "      <td>10152.000000000000000</td>\n",
              "      <td>30153</td>\n",
              "      <td>1</td>\n",
              "      <td>134.497341880702209</td>\n",
              "      <td>1100.758707277763051</td>\n",
              "      <td>31.038549370162400</td>\n",
              "      <td>32.385018427083054</td>\n",
              "      <td>...</td>\n",
              "      <td>0.080530143323629</td>\n",
              "      <td>-0.996752173820692</td>\n",
              "      <td>1</td>\n",
              "      <td>21</td>\n",
              "      <td>719163</td>\n",
              "      <td>719163</td>\n",
              "      <td>7.280843038278087</td>\n",
              "      <td>-84.636149135127951</td>\n",
              "      <td>-0.043792247720177</td>\n",
              "      <td>-1</td>\n",
              "    </tr>\n",
              "    <tr>\n",
              "      <th>14</th>\n",
              "      <td>1970-01-01 00:00:00.000025211</td>\n",
              "      <td>1970-01-01 00:00:00.000025211</td>\n",
              "      <td>15</td>\n",
              "      <td>10152.000000000000000</td>\n",
              "      <td>30153</td>\n",
              "      <td>1</td>\n",
              "      <td>134.497341880702209</td>\n",
              "      <td>1100.758707277763051</td>\n",
              "      <td>31.038549370162400</td>\n",
              "      <td>32.385018427083054</td>\n",
              "      <td>...</td>\n",
              "      <td>0.080530143323629</td>\n",
              "      <td>-0.996752173820692</td>\n",
              "      <td>1</td>\n",
              "      <td>27</td>\n",
              "      <td>719163</td>\n",
              "      <td>719163</td>\n",
              "      <td>0.000000000000000</td>\n",
              "      <td>0.000000000000000</td>\n",
              "      <td>-0.043792247720177</td>\n",
              "      <td>-1</td>\n",
              "    </tr>\n",
              "  </tbody>\n",
              "</table>\n",
              "<p>5 rows × 22 columns</p>\n",
              "</div>\n",
              "      <button class=\"colab-df-convert\" onclick=\"convertToInteractive('df-232dca19-0fdc-499e-b4a4-2f9bf7b799ad')\"\n",
              "              title=\"Convert this dataframe to an interactive table.\"\n",
              "              style=\"display:none;\">\n",
              "        \n",
              "  <svg xmlns=\"http://www.w3.org/2000/svg\" height=\"24px\"viewBox=\"0 0 24 24\"\n",
              "       width=\"24px\">\n",
              "    <path d=\"M0 0h24v24H0V0z\" fill=\"none\"/>\n",
              "    <path d=\"M18.56 5.44l.94 2.06.94-2.06 2.06-.94-2.06-.94-.94-2.06-.94 2.06-2.06.94zm-11 1L8.5 8.5l.94-2.06 2.06-.94-2.06-.94L8.5 2.5l-.94 2.06-2.06.94zm10 10l.94 2.06.94-2.06 2.06-.94-2.06-.94-.94-2.06-.94 2.06-2.06.94z\"/><path d=\"M17.41 7.96l-1.37-1.37c-.4-.4-.92-.59-1.43-.59-.52 0-1.04.2-1.43.59L10.3 9.45l-7.72 7.72c-.78.78-.78 2.05 0 2.83L4 21.41c.39.39.9.59 1.41.59.51 0 1.02-.2 1.41-.59l7.78-7.78 2.81-2.81c.8-.78.8-2.07 0-2.86zM5.41 20L4 18.59l7.72-7.72 1.47 1.35L5.41 20z\"/>\n",
              "  </svg>\n",
              "      </button>\n",
              "      \n",
              "  <style>\n",
              "    .colab-df-container {\n",
              "      display:flex;\n",
              "      flex-wrap:wrap;\n",
              "      gap: 12px;\n",
              "    }\n",
              "\n",
              "    .colab-df-convert {\n",
              "      background-color: #E8F0FE;\n",
              "      border: none;\n",
              "      border-radius: 50%;\n",
              "      cursor: pointer;\n",
              "      display: none;\n",
              "      fill: #1967D2;\n",
              "      height: 32px;\n",
              "      padding: 0 0 0 0;\n",
              "      width: 32px;\n",
              "    }\n",
              "\n",
              "    .colab-df-convert:hover {\n",
              "      background-color: #E2EBFA;\n",
              "      box-shadow: 0px 1px 2px rgba(60, 64, 67, 0.3), 0px 1px 3px 1px rgba(60, 64, 67, 0.15);\n",
              "      fill: #174EA6;\n",
              "    }\n",
              "\n",
              "    [theme=dark] .colab-df-convert {\n",
              "      background-color: #3B4455;\n",
              "      fill: #D2E3FC;\n",
              "    }\n",
              "\n",
              "    [theme=dark] .colab-df-convert:hover {\n",
              "      background-color: #434B5C;\n",
              "      box-shadow: 0px 1px 3px 1px rgba(0, 0, 0, 0.15);\n",
              "      filter: drop-shadow(0px 1px 2px rgba(0, 0, 0, 0.3));\n",
              "      fill: #FFFFFF;\n",
              "    }\n",
              "  </style>\n",
              "\n",
              "      <script>\n",
              "        const buttonEl =\n",
              "          document.querySelector('#df-232dca19-0fdc-499e-b4a4-2f9bf7b799ad button.colab-df-convert');\n",
              "        buttonEl.style.display =\n",
              "          google.colab.kernel.accessAllowed ? 'block' : 'none';\n",
              "\n",
              "        async function convertToInteractive(key) {\n",
              "          const element = document.querySelector('#df-232dca19-0fdc-499e-b4a4-2f9bf7b799ad');\n",
              "          const dataTable =\n",
              "            await google.colab.kernel.invokeFunction('convertToInteractive',\n",
              "                                                     [key], {});\n",
              "          if (!dataTable) return;\n",
              "\n",
              "          const docLinkHtml = 'Like what you see? Visit the ' +\n",
              "            '<a target=\"_blank\" href=https://colab.research.google.com/notebooks/data_table.ipynb>data table notebook</a>'\n",
              "            + ' to learn more about interactive tables.';\n",
              "          element.innerHTML = '';\n",
              "          dataTable['output_type'] = 'display_data';\n",
              "          await google.colab.output.renderOutput(dataTable, element);\n",
              "          const docLink = document.createElement('div');\n",
              "          docLink.innerHTML = docLinkHtml;\n",
              "          element.appendChild(docLink);\n",
              "        }\n",
              "      </script>\n",
              "    </div>\n",
              "  </div>\n",
              "  "
            ],
            "text/plain": [
              "                         rcvTime                      sendTime  sender  \\\n",
              "1  1970-01-01 00:00:00.000025208 1970-01-01 00:00:00.000025208      15   \n",
              "5  1970-01-01 00:00:00.000025209 1970-01-01 00:00:00.000025209      15   \n",
              "8  1970-01-01 00:00:00.000025210 1970-01-01 00:00:00.000025210      15   \n",
              "12 1970-01-01 00:00:00.000025211 1970-01-01 00:00:00.000025211      15   \n",
              "14 1970-01-01 00:00:00.000025211 1970-01-01 00:00:00.000025211      15   \n",
              "\n",
              "            senderPseudo  messageID  density_level               pos_x  \\\n",
              "1  10152.000000000000000      17038              1 136.075922480586854   \n",
              "5  10152.000000000000000      17187              1 136.577956230916584   \n",
              "8  10152.000000000000000      21576              1 133.816727412066058   \n",
              "12 10152.000000000000000      30153              1 134.497341880702209   \n",
              "14 10152.000000000000000      30153              1 134.497341880702209   \n",
              "\n",
              "                  pos_y              spd_x              spd_y  ...  \\\n",
              "1  1117.136648716594209 31.038549370162400 32.385018427083054  ...   \n",
              "5  1113.782918616124789 31.038549370162400 32.385018427083054  ...   \n",
              "8  1108.007668533910419 31.038549370162400 32.385018427083054  ...   \n",
              "12 1100.758707277763051 31.038549370162400 32.385018427083054  ...   \n",
              "14 1100.758707277763051 31.038549370162400 32.385018427083054  ...   \n",
              "\n",
              "               hed_x              hed_y  attack  receiver_id  rcvTime_numeric  \\\n",
              "1  0.083291441902538 -0.996525230842549       1           21           719163   \n",
              "5  0.083291441902538 -0.996525230842549       1           21           719163   \n",
              "8  0.083345069342663 -0.996520747107789       1           21           719163   \n",
              "12 0.080530143323629 -0.996752173820692       1           21           719163   \n",
              "14 0.080530143323629 -0.996752173820692       1           27           719163   \n",
              "\n",
              "    sendTime_numeric       distance_eu           dis_angle             scores  \\\n",
              "1             719163 0.000000000000000   0.000000000000000 -0.043038184944773   \n",
              "5             719163 3.391097679699711 -81.486373901858343 -0.043792247720177   \n",
              "8             719163 6.401398136514223  64.446876464180519 -0.043792247720177   \n",
              "12            719163 7.280843038278087 -84.636149135127951 -0.043792247720177   \n",
              "14            719163 0.000000000000000   0.000000000000000 -0.043792247720177   \n",
              "\n",
              "    anomaly_score  \n",
              "1              -1  \n",
              "5              -1  \n",
              "8              -1  \n",
              "12             -1  \n",
              "14             -1  \n",
              "\n",
              "[5 rows x 22 columns]"
            ]
          },
          "execution_count": 32,
          "metadata": {},
          "output_type": "execute_result"
        }
      ],
      "source": [
        "data['scores'] = model.decision_function(data[features_arr])\n",
        "data['anomaly_score'] = model.predict(data[features_arr])\n",
        "data[data['anomaly_score']==-1].head()"
      ]
    },
    {
      "cell_type": "code",
      "execution_count": null,
      "metadata": {
        "id": "1hXmQDEVQ-lE"
      },
      "outputs": [],
      "source": [
        "anomaly_count = len(data[data['attack'] == 1])"
      ]
    },
    {
      "cell_type": "code",
      "execution_count": null,
      "metadata": {
        "colab": {
          "base_uri": "https://localhost:8080/"
        },
        "id": "qEYJCHjlC5TB",
        "outputId": "217f765d-8338-418c-c29c-a32b1634a322"
      },
      "outputs": [
        {
          "name": "stdout",
          "output_type": "stream",
          "text": [
            "Accuracy of the model: 68.11050416021214\n"
          ]
        }
      ],
      "source": [
        "accuracy = 100*list(data['anomaly_score']).count(-1)/(anomaly_count)\n",
        "print(\"Accuracy of the model:\", accuracy)"
      ]
    },
    {
      "cell_type": "markdown",
      "metadata": {
        "id": "2JaN-qhkTXu3"
      },
      "source": [
        "### RandomForestClassifier"
      ]
    },
    {
      "cell_type": "markdown",
      "metadata": {
        "id": "XK9I0ocvep19"
      },
      "source": [
        "**Simple RandomForest classifer without hyperparameters - 12 features**"
      ]
    },
    {
      "cell_type": "code",
      "execution_count": null,
      "metadata": {
        "colab": {
          "base_uri": "https://localhost:8080/"
        },
        "id": "diYMFbZjxNB8",
        "outputId": "4bcefcb9-65f9-4f04-ca35-3bdae03caefe"
      },
      "outputs": [
        {
          "name": "stdout",
          "output_type": "stream",
          "text": [
            "              precision    recall  f1-score   support\n",
            "\n",
            "           0       0.93      0.99      0.96    554369\n",
            "           1       0.98      0.83      0.90    239259\n",
            "\n",
            "    accuracy                           0.94    793628\n",
            "   macro avg       0.96      0.91      0.93    793628\n",
            "weighted avg       0.95      0.94      0.94    793628\n",
            "\n"
          ]
        }
      ],
      "source": [
        "clf = RandomForestClassifier(max_depth=2, random_state=0)\n",
        "clf.fit(X_train_12, y_train_12)\n",
        "y_pred_12 = clf.predict(X_test_12)\n",
        "print(classification_report(y_test_12,y_pred_12))"
      ]
    },
    {
      "cell_type": "code",
      "execution_count": null,
      "metadata": {
        "colab": {
          "base_uri": "https://localhost:8080/"
        },
        "id": "futrENM2tsz0",
        "outputId": "5f34a29d-ef28-431a-91ea-85847249b3c2"
      },
      "outputs": [
        {
          "name": "stdout",
          "output_type": "stream",
          "text": [
            "              precision    recall  f1-score   support\n",
            "\n",
            "           0       0.88      1.00      0.93    114796\n",
            "           1       1.00      0.67      0.80     49223\n",
            "\n",
            "   micro avg       0.90      0.90      0.90    164019\n",
            "   macro avg       0.94      0.84      0.87    164019\n",
            "weighted avg       0.91      0.90      0.89    164019\n",
            " samples avg       0.90      0.90      0.90    164019\n",
            "\n"
          ]
        }
      ],
      "source": [
        "# Categorical y\n",
        "clf = RandomForestClassifier(max_depth=2, random_state=0)\n",
        "clf.fit(X_train_12, y_train_12)\n",
        "y_pred_12 = clf.predict(X_test_12)\n",
        "print(classification_report(y_test_12,y_pred_12))"
      ]
    },
    {
      "cell_type": "markdown",
      "metadata": {
        "id": "F7DTVxM1e0d6"
      },
      "source": [
        "**Simple RandomForest classifer without hyperparameters - 11 features**"
      ]
    },
    {
      "cell_type": "code",
      "execution_count": null,
      "metadata": {
        "colab": {
          "base_uri": "https://localhost:8080/"
        },
        "id": "oRoADOXVeEVy",
        "outputId": "25306b5d-3125-4bbd-b567-075d570b185d"
      },
      "outputs": [
        {
          "name": "stdout",
          "output_type": "stream",
          "text": [
            "              precision    recall  f1-score   support\n",
            "\n",
            "           0       0.93      0.99      0.96    554369\n",
            "           1       0.98      0.83      0.90    239259\n",
            "\n",
            "    accuracy                           0.94    793628\n",
            "   macro avg       0.96      0.91      0.93    793628\n",
            "weighted avg       0.95      0.94      0.94    793628\n",
            "\n"
          ]
        }
      ],
      "source": [
        "clf = RandomForestClassifier(max_depth=2, random_state=0)\n",
        "clf.fit(X_train_11, y_train_11)\n",
        "y_pred_11 = clf.predict(X_test_11)\n",
        "print(classification_report(y_test_11,y_pred_11))"
      ]
    },
    {
      "cell_type": "markdown",
      "metadata": {
        "id": "8Eu1913bTPdr"
      },
      "source": [
        "### KNN"
      ]
    },
    {
      "cell_type": "markdown",
      "metadata": {
        "id": "oyz0cWsngB3r"
      },
      "source": [
        "**12 features**"
      ]
    },
    {
      "cell_type": "markdown",
      "metadata": {
        "id": "j4gRE34hc1lp"
      },
      "source": [
        "**Finding k value for KNN using GridSearchCV**"
      ]
    },
    {
      "cell_type": "code",
      "execution_count": null,
      "metadata": {
        "colab": {
          "base_uri": "https://localhost:8080/"
        },
        "id": "6tC_nY7h8vxv",
        "outputId": "f8ddd63f-abbf-40f8-f32b-c9a4a77beb27"
      },
      "outputs": [
        {
          "name": "stdout",
          "output_type": "stream",
          "text": [
            "Best leaf_size: 1\n",
            "Best p: 2\n",
            "Best n_neighbors: 1\n"
          ]
        }
      ],
      "source": [
        "#List Hyperparameters that we want to tune.\n",
        "leaf_size = list(range(1,50))\n",
        "n_neighbors = list(range(1,30))\n",
        "p=[1,2]#Convert to dictionary\n",
        "hyperparameters = dict(leaf_size=leaf_size, n_neighbors=n_neighbors, p=p)\n",
        "#Create new KNN object\n",
        "knn_2 = KNeighborsClassifier()#Use GridSearch\n",
        "clf = GridSearchCV(knn_2, hyperparameters,n_jobs=-1)#Fit the model\n",
        "best_model = clf.fit(X_train_12,y_train_12)#Print The value of best Hyperparameters\n",
        "print('Best leaf_size:', best_model.best_estimator_.get_params()['leaf_size'])\n",
        "print('Best p:', best_model.best_estimator_.get_params()['p'])\n",
        "print('Best n_neighbors:', best_model.best_estimator_.get_params()['n_neighbors'])"
      ]
    },
    {
      "cell_type": "code",
      "execution_count": null,
      "metadata": {
        "colab": {
          "base_uri": "https://localhost:8080/"
        },
        "id": "gtUBAry_MqeA",
        "outputId": "cf5a054a-c451-472a-cab6-500a4e8286f1"
      },
      "outputs": [
        {
          "name": "stdout",
          "output_type": "stream",
          "text": [
            "              precision    recall  f1-score   support\n",
            "\n",
            "           0       0.70      1.00      0.82    114796\n",
            "           1       0.23      0.00      0.00     49223\n",
            "\n",
            "    accuracy                           0.70    164019\n",
            "   macro avg       0.46      0.50      0.41    164019\n",
            "weighted avg       0.56      0.70      0.58    164019\n",
            "\n"
          ]
        }
      ],
      "source": [
        "knn_2 = KNeighborsClassifier(leaf_size=1, n_neighbors=1, p=2)\n",
        "#Train the model using the training sets\n",
        "knn.fit(X_train_12, y_train_12)\n",
        "\n",
        "#Predict the response for test dataset\n",
        "y_pred_12 = knn.predict(X_test_12)\n",
        "print(classification_report(y_test_12,y_pred_12))"
      ]
    },
    {
      "cell_type": "markdown",
      "metadata": {
        "id": "bPWwFfkTNEec"
      },
      "source": [
        "**Finding k value for KNN**"
      ]
    },
    {
      "cell_type": "code",
      "execution_count": null,
      "metadata": {
        "colab": {
          "base_uri": "https://localhost:8080/"
        },
        "id": "S4aGiH49bpcr",
        "outputId": "b54e1f69-2c2d-42df-cc67-687b91d8c81f"
      },
      "outputs": [
        {
          "name": "stdout",
          "output_type": "stream",
          "text": [
            "(164019, 1) (164019, 1)\n",
            "k value 1 Accuracy: 0.3015626238423597\n",
            "(164019, 1) (164019, 1)\n",
            "k value 2 Accuracy: 0.3099092178345192\n",
            "(164019, 1) (164019, 1)\n",
            "k value 3 Accuracy: 0.3097872807418653\n",
            "(164019, 1) (164019, 1)\n",
            "k value 4 Accuracy: 0.3105432907163195\n",
            "(164019, 1) (164019, 1)\n",
            "k value 5 Accuracy: 0.3097872807418653\n",
            "(164019, 1) (164019, 1)\n",
            "k value 6 Accuracy: 0.6996445533749139\n",
            "(164019, 1) (164019, 1)\n",
            "k value 7 Accuracy: 0.6994921320090965\n",
            "(164019, 1) (164019, 1)\n",
            "k value 8 Accuracy: 0.6996506502295465\n",
            "(164019, 1) (164019, 1)\n",
            "k value 9 Accuracy: 0.6995774879739542\n",
            "(164019, 1) (164019, 1)\n",
            "k value 10 Accuracy: 0.6995774879739542\n",
            "(164019, 1) (164019, 1)\n",
            "k value 11 Accuracy: 0.6993153232247483\n",
            "(164019, 1) (164019, 1)\n",
            "k value 12 Accuracy: 0.6995774879739542\n",
            "(164019, 1) (164019, 1)\n",
            "k value 13 Accuracy: 0.6995409068461581\n",
            "(164019, 1) (164019, 1)\n",
            "k value 14 Accuracy: 0.6995409068461581\n",
            "(164019, 1) (164019, 1)\n",
            "k value 15 Accuracy: 0.6995409068461581\n",
            "(164019, 1) (164019, 1)\n",
            "k value 16 Accuracy: 0.6995409068461581\n",
            "(164019, 1) (164019, 1)\n",
            "k value 17 Accuracy: 0.6910479883428139\n",
            "(164019, 1) (164019, 1)\n",
            "k value 18 Accuracy: 0.6910479883428139\n",
            "(164019, 1) (164019, 1)\n",
            "k value 19 Accuracy: 0.6910479883428139\n",
            "(164019, 1) (164019, 1)\n",
            "k value 20 Accuracy: 0.6910479883428139\n",
            "(164019, 1) (164019, 1)\n",
            "k value 21 Accuracy: 0.6910479883428139\n",
            "(164019, 1) (164019, 1)\n",
            "k value 22 Accuracy: 0.6910479883428139\n",
            "(164019, 1) (164019, 1)\n",
            "k value 23 Accuracy: 0.6909931166511197\n",
            "(164019, 1) (164019, 1)\n",
            "k value 24 Accuracy: 0.6910114072150177\n",
            "(164019, 1) (164019, 1)\n",
            "k value 25 Accuracy: 0.6910114072150177\n",
            "(164019, 1) (164019, 1)\n",
            "k value 26 Accuracy: 0.6910114072150177\n",
            "(164019, 1) (164019, 1)\n",
            "k value 27 Accuracy: 0.6909931166511197\n",
            "(164019, 1) (164019, 1)\n",
            "k value 28 Accuracy: 0.6909931166511197\n",
            "(164019, 1) (164019, 1)\n",
            "k value 29 Accuracy: 0.6909809229418543\n",
            "(164019, 1) (164019, 1)\n",
            "k value 30 Accuracy: 0.6909809229418543\n",
            "(164019, 1) (164019, 1)\n",
            "k value 31 Accuracy: 0.6910601820520793\n",
            "(164019, 1) (164019, 1)\n",
            "k value 32 Accuracy: 0.6910601820520793\n",
            "(164019, 1) (164019, 1)\n",
            "k value 33 Accuracy: 0.6909626323779562\n",
            "(164019, 1) (164019, 1)\n",
            "k value 34 Accuracy: 0.6909626323779562\n",
            "(164019, 1) (164019, 1)\n",
            "k value 35 Accuracy: 0.6906455959370561\n",
            "(164019, 1) (164019, 1)\n",
            "k value 36 Accuracy: 0.6906821770648522\n",
            "(164019, 1) (164019, 1)\n",
            "k value 37 Accuracy: 0.6907919204482408\n",
            "(164019, 1) (164019, 1)\n",
            "k value 38 Accuracy: 0.6911028600345082\n",
            "(164019, 1) (164019, 1)\n",
            "k value 39 Accuracy: 0.6911028600345082\n",
            "(164019, 1) (164019, 1)\n",
            "k value 40 Accuracy: 0.6909504386686908\n",
            "(164019, 1) (164019, 1)\n",
            "k value 41 Accuracy: 0.30030057493339185\n",
            "(164019, 1) (164019, 1)\n",
            "k value 42 Accuracy: 0.30030057493339185\n",
            "(164019, 1) (164019, 1)\n",
            "k value 43 Accuracy: 0.30030057493339185\n",
            "(164019, 1) (164019, 1)\n",
            "k value 44 Accuracy: 0.3003554466250861\n",
            "(164019, 1) (164019, 1)\n",
            "k value 45 Accuracy: 0.3003554466250861\n",
            "(164019, 1) (164019, 1)\n",
            "k value 46 Accuracy: 0.30236131179924275\n",
            "(164019, 1) (164019, 1)\n",
            "k value 47 Accuracy: 0.30236131179924275\n",
            "(164019, 1) (164019, 1)\n",
            "k value 48 Accuracy: 0.3089093336747572\n",
            "(164019, 1) (164019, 1)\n",
            "k value 49 Accuracy: 0.3089093336747572\n"
          ]
        }
      ],
      "source": [
        "#Import knearest neighbors Classifier model\n",
        "from sklearn.neighbors import KNeighborsClassifier\n",
        "error_rate = []\n",
        "k_range = range(1, 50)\n",
        "for k in k_range:\n",
        "  #Create KNN Classifier\n",
        "  knn = KNeighborsClassifier(n_neighbors=k)\n",
        "\n",
        "  #Train the model using the training sets\n",
        "  knn.fit(X_train_12, y_train_12)\n",
        "\n",
        "  #Predict the response for test dataset\n",
        "  y_pred = knn.predict(X_test_12)\n",
        "  y_pred=y_pred.reshape(len(y_pred),1)\n",
        "  print(np.shape(y_pred), np.shape(y_test_12))\n",
        "  error_rate.append(np.mean(y_pred != y_test_12))\n",
        "  #Import scikit-learn metrics module for accuracy calculation\n",
        "  from sklearn import metrics\n",
        "  # Model Accuracy, how often is the classifier correct?\n",
        "  print(\"k value\", k, \"Accuracy:\",metrics.accuracy_score(y_test_12, y_pred))"
      ]
    },
    {
      "cell_type": "markdown",
      "metadata": {
        "id": "QnmajWDyc-kh"
      },
      "source": [
        "**Plotting the graph to identify value of k using elbow method**"
      ]
    },
    {
      "cell_type": "code",
      "execution_count": null,
      "metadata": {
        "colab": {
          "base_uri": "https://localhost:8080/",
          "height": 422
        },
        "id": "IOBalUScfVzn",
        "outputId": "55e7ed5c-d6d5-4a8d-be0a-d4c16d373ce9"
      },
      "outputs": [
        {
          "data": {
            "text/plain": [
              "Text(0, 0.5, 'Error Rate')"
            ]
          },
          "execution_count": 69,
          "metadata": {},
          "output_type": "execute_result"
        },
        {
          "data": {
            "image/png": "[encoded data removed]",
            "text/plain": [
              "<Figure size 720x432 with 1 Axes>"
            ]
          },
          "metadata": {
            "needs_background": "light"
          },
          "output_type": "display_data"
        }
      ],
      "source": [
        "plt.figure(figsize=(10,6))\n",
        "plt.plot(range(1,50),error_rate,color='blue', linestyle='dashed', marker='o',\n",
        " markerfacecolor='red', markersize=10)\n",
        "plt.title('Error Rate vs. K Value')\n",
        "plt.xlabel('K')\n",
        "plt.ylabel('Error Rate')"
      ]
    },
    {
      "cell_type": "markdown",
      "metadata": {
        "id": "sr1EKoO1dMKg"
      },
      "source": [
        "**Bulding model based on the identified value of k**"
      ]
    },
    {
      "cell_type": "code",
      "execution_count": null,
      "metadata": {
        "colab": {
          "base_uri": "https://localhost:8080/"
        },
        "id": "1cVxmcOvfDGh",
        "outputId": "5012dafc-e130-4980-dd41-de85c3924d5b"
      },
      "outputs": [
        {
          "name": "stdout",
          "output_type": "stream",
          "text": [
            "              precision    recall  f1-score   support\n",
            "\n",
            "           0       0.70      1.00      0.82    114796\n",
            "           1       0.23      0.00      0.00     49223\n",
            "\n",
            "    accuracy                           0.70    164019\n",
            "   macro avg       0.46      0.50      0.41    164019\n",
            "weighted avg       0.56      0.70      0.58    164019\n",
            "\n"
          ]
        }
      ],
      "source": [
        "#Create KNN Classifier\n",
        "knn = KNeighborsClassifier(n_neighbors=6)\n",
        "\n",
        "#Train the model using the training sets\n",
        "knn.fit(X_train_12, y_train_12)\n",
        "\n",
        "#Predict the response for test dataset\n",
        "y_pred_12 = knn.predict(X_test_12)\n",
        "print(classification_report(y_test_12,y_pred_12))"
      ]
    },
    {
      "cell_type": "code",
      "execution_count": null,
      "metadata": {
        "id": "0aQ0oEwQmg1F"
      },
      "outputs": [],
      "source": [
        "#Create KNN Classifier\n",
        "knn = KNeighborsClassifier(n_neighbors=15)\n",
        "\n",
        "#Train the model using the training sets\n",
        "knn.fit(X_train_12, y_train_12)\n",
        "\n",
        "#Predict the response for test dataset\n",
        "y_pred_12 = knn.predict(X_test_12)\n",
        "print(classification_report(y_test_12,y_pred_12))"
      ]
    },
    {
      "cell_type": "markdown",
      "metadata": {
        "id": "WfidQVYtqK4m"
      },
      "source": [
        "**11 features**"
      ]
    },
    {
      "cell_type": "markdown",
      "metadata": {
        "id": "XfIqFwhfgP8I"
      },
      "source": [
        "**Finding k value for KNN**"
      ]
    },
    {
      "cell_type": "code",
      "execution_count": null,
      "metadata": {
        "colab": {
          "base_uri": "https://localhost:8080/",
          "height": 1000
        },
        "id": "0hYi0n6BqICG",
        "outputId": "e06381e5-0055-4c91-c8e3-0fda5b059fc9"
      },
      "outputs": [
        {
          "name": "stdout",
          "output_type": "stream",
          "text": [
            "(793628, 1) (793628, 1)\n",
            "k value 1 Accuracy: 0.5864649432731708\n",
            "(793628, 1) (793628, 1)\n",
            "k value 2 Accuracy: 0.5907566265303139\n",
            "(793628, 1) (793628, 1)\n",
            "k value 3 Accuracy: 0.5841048954925986\n",
            "(793628, 1) (793628, 1)\n",
            "k value 4 Accuracy: 0.5895192709934629\n",
            "(793628, 1) (793628, 1)\n",
            "k value 5 Accuracy: 0.5824958292802169\n",
            "(793628, 1) (793628, 1)\n",
            "k value 6 Accuracy: 0.5896969360960047\n",
            "(793628, 1) (793628, 1)\n",
            "k value 7 Accuracy: 0.5809636252753179\n",
            "(793628, 1) (793628, 1)\n",
            "k value 8 Accuracy: 0.5904416174832541\n",
            "(793628, 1) (793628, 1)\n",
            "k value 9 Accuracy: 0.5819565337916505\n",
            "(793628, 1) (793628, 1)\n",
            "k value 10 Accuracy: 0.594942466747645\n",
            "(793628, 1) (793628, 1)\n",
            "k value 11 Accuracy: 0.5857505027544391\n",
            "(793628, 1) (793628, 1)\n",
            "k value 12 Accuracy: 0.5980396356983373\n",
            "(793628, 1) (793628, 1)\n",
            "k value 13 Accuracy: 0.5886788268559073\n",
            "(793628, 1) (793628, 1)\n",
            "k value 14 Accuracy: 0.6009238585332171\n",
            "(793628, 1) (793628, 1)\n",
            "k value 15 Accuracy: 0.5925446178814255\n",
            "(793628, 1) (793628, 1)\n",
            "k value 16 Accuracy: 0.6092123765794554\n",
            "(793628, 1) (793628, 1)\n",
            "k value 17 Accuracy: 0.600375742791333\n",
            "(793628, 1) (793628, 1)\n",
            "k value 18 Accuracy: 0.6147376352648848\n",
            "(793628, 1) (793628, 1)\n",
            "k value 19 Accuracy: 0.6072089190401548\n",
            "(793628, 1) (793628, 1)\n",
            "k value 20 Accuracy: 0.6216942950601542\n",
            "(793628, 1) (793628, 1)\n",
            "k value 21 Accuracy: 0.6153449727076161\n",
            "(793628, 1) (793628, 1)\n",
            "k value 22 Accuracy: 0.6264988130459107\n",
            "(793628, 1) (793628, 1)\n",
            "k value 23 Accuracy: 0.6196820172675359\n",
            "(793628, 1) (793628, 1)\n",
            "k value 24 Accuracy: 0.6305183284863941\n",
            "(793628, 1) (793628, 1)\n",
            "k value 25 Accuracy: 0.625042211212306\n",
            "(793628, 1) (793628, 1)\n",
            "k value 26 Accuracy: 0.6346953484504075\n",
            "(793628, 1) (793628, 1)\n",
            "k value 27 Accuracy: 0.629354055048461\n",
            "(793628, 1) (793628, 1)\n",
            "k value 28 Accuracy: 0.6391218555796923\n",
            "(793628, 1) (793628, 1)\n",
            "k value 29 Accuracy: 0.633318128896662\n",
            "(793628, 1) (793628, 1)\n",
            "k value 30 Accuracy: 0.6423462881853966\n",
            "(793628, 1) (793628, 1)\n",
            "k value 31 Accuracy: 0.6371259582575212\n",
            "(793628, 1) (793628, 1)\n",
            "k value 32 Accuracy: 0.645133488233782\n",
            "(793628, 1) (793628, 1)\n",
            "k value 33 Accuracy: 0.6407989637462388\n",
            "(793628, 1) (793628, 1)\n",
            "k value 34 Accuracy: 0.6468156365450816\n",
            "(793628, 1) (793628, 1)\n",
            "k value 35 Accuracy: 0.6428742433482689\n",
            "(793628, 1) (793628, 1)\n",
            "k value 36 Accuracy: 0.6508187715151179\n",
            "(793628, 1) (793628, 1)\n",
            "k value 37 Accuracy: 0.6466455316596693\n",
            "(793628, 1) (793628, 1)\n",
            "k value 38 Accuracy: 0.651903662673192\n",
            "(793628, 1) (793628, 1)\n",
            "k value 39 Accuracy: 0.6479647895487558\n"
          ]
        },
        {
          "data": {
            "text/plain": [
              "Text(0, 0.5, 'Error Rate')"
            ]
          },
          "execution_count": 19,
          "metadata": {},
          "output_type": "execute_result"
        },
        {
          "data": {
            "image/png": "[encoded data removed]",
            "text/plain": [
              "<Figure size 720x432 with 1 Axes>"
            ]
          },
          "metadata": {
            "needs_background": "light"
          },
          "output_type": "display_data"
        }
      ],
      "source": [
        "#Import knearest neighbors Classifier model\n",
        "from sklearn.neighbors import KNeighborsClassifier\n",
        "error_rate = []\n",
        "k_range = range(1, 40)\n",
        "for k in k_range:\n",
        "  #Create KNN Classifier\n",
        "  knn = KNeighborsClassifier(n_neighbors=k)\n",
        "\n",
        "  #Train the model using the training sets\n",
        "  knn.fit(X_train_11, y_train_11)\n",
        "\n",
        "  #Predict the response for test dataset\n",
        "  y_pred = knn.predict(X_test_11)\n",
        "  y_pred=y_pred.reshape(len(y_pred),1)\n",
        "  print(np.shape(y_pred), np.shape(y_test_11))\n",
        "  error_rate.append(np.mean(y_pred != y_test_11))\n",
        "  #Import scikit-learn metrics module for accuracy calculation\n",
        "  from sklearn import metrics\n",
        "  # Model Accuracy, how often is the classifier correct?\n",
        "  print(\"k value\", k, \"Accuracy:\",metrics.accuracy_score(y_test_11, y_pred))\n",
        "\n",
        "plt.figure(figsize=(10,6))\n",
        "plt.plot(range(1,40),error_rate,color='blue', linestyle='dashed', marker='o',\n",
        " markerfacecolor='red', markersize=10)\n",
        "plt.title('Error Rate vs. K Value')\n",
        "plt.xlabel('K')\n",
        "plt.ylabel('Error Rate')"
      ]
    },
    {
      "cell_type": "markdown",
      "metadata": {
        "id": "0tCvpUE4gUvo"
      },
      "source": [
        "**Bulding model based on the identified value of k**"
      ]
    },
    {
      "cell_type": "code",
      "execution_count": null,
      "metadata": {
        "colab": {
          "base_uri": "https://localhost:8080/"
        },
        "id": "gGSt44dcqISd",
        "outputId": "38a93f20-b02d-473d-ab0e-56a4b673f5a0"
      },
      "outputs": [
        {
          "name": "stdout",
          "output_type": "stream",
          "text": [
            "              precision    recall  f1-score   support\n",
            "\n",
            "           0       0.70      0.72      0.71    554369\n",
            "           1       0.31      0.29      0.30    239259\n",
            "\n",
            "    accuracy                           0.59    793628\n",
            "   macro avg       0.50      0.50      0.50    793628\n",
            "weighted avg       0.58      0.59      0.59    793628\n",
            "\n"
          ]
        }
      ],
      "source": [
        "#Create KNN Classifier\n",
        "knn = KNeighborsClassifier(n_neighbors=6)\n",
        "\n",
        "#Train the model using the training sets\n",
        "knn.fit(X_train_11, y_train_11)\n",
        "\n",
        "#Predict the response for test dataset\n",
        "y_pred_11 = knn.predict(X_test_11)\n",
        "print(classification_report(y_test_11,y_pred_11))"
      ]
    },
    {
      "cell_type": "markdown",
      "metadata": {
        "id": "DWnJRE-1rJhC"
      },
      "source": [
        "**10 features**"
      ]
    },
    {
      "cell_type": "markdown",
      "metadata": {
        "id": "KdUtzESLgpLm"
      },
      "source": [
        "**Finding k value for KNN**"
      ]
    },
    {
      "cell_type": "code",
      "execution_count": null,
      "metadata": {
        "colab": {
          "base_uri": "https://localhost:8080/",
          "height": 1000
        },
        "id": "-E4_a5LFrIS-",
        "outputId": "3a02b133-cddc-467c-8844-deafe280e3c8"
      },
      "outputs": [
        {
          "name": "stdout",
          "output_type": "stream",
          "text": [
            "(793628, 1) (793628, 1)\n",
            "k value 1 Accuracy: 0.5786312982908869\n",
            "(793628, 1) (793628, 1)\n",
            "k value 2 Accuracy: 0.5843959638520818\n",
            "(793628, 1) (793628, 1)\n",
            "k value 3 Accuracy: 0.5791705937794533\n",
            "(793628, 1) (793628, 1)\n",
            "k value 4 Accuracy: 0.5873179877726088\n",
            "(793628, 1) (793628, 1)\n",
            "k value 5 Accuracy: 0.5803285670364453\n",
            "(793628, 1) (793628, 1)\n",
            "k value 6 Accuracy: 0.589504150559204\n",
            "(793628, 1) (793628, 1)\n",
            "k value 7 Accuracy: 0.582190900522663\n",
            "(793628, 1) (793628, 1)\n",
            "k value 8 Accuracy: 0.5916890533096111\n",
            "(793628, 1) (793628, 1)\n",
            "k value 9 Accuracy: 0.5827692571330648\n",
            "(793628, 1) (793628, 1)\n",
            "k value 10 Accuracy: 0.5941587242385601\n",
            "(793628, 1) (793628, 1)\n",
            "k value 11 Accuracy: 0.5864221020427707\n",
            "(793628, 1) (793628, 1)\n",
            "k value 12 Accuracy: 0.5969875054811574\n",
            "(793628, 1) (793628, 1)\n",
            "k value 13 Accuracy: 0.5891626807521912\n",
            "(793628, 1) (793628, 1)\n",
            "k value 14 Accuracy: 0.6014051923571245\n",
            "(793628, 1) (793628, 1)\n",
            "k value 15 Accuracy: 0.5935249260358757\n",
            "(793628, 1) (793628, 1)\n",
            "k value 16 Accuracy: 0.6072870412838257\n",
            "(793628, 1) (793628, 1)\n",
            "k value 17 Accuracy: 0.5991585478334938\n",
            "(793628, 1) (793628, 1)\n",
            "k value 18 Accuracy: 0.6123675071948066\n",
            "(793628, 1) (793628, 1)\n",
            "k value 19 Accuracy: 0.6055280307650436\n",
            "(793628, 1) (793628, 1)\n",
            "k value 20 Accuracy: 0.6180805112722837\n",
            "(793628, 1) (793628, 1)\n",
            "k value 21 Accuracy: 0.6098600351802104\n",
            "(793628, 1) (793628, 1)\n",
            "k value 22 Accuracy: 0.6197336787512537\n",
            "(793628, 1) (793628, 1)\n",
            "k value 23 Accuracy: 0.6125615527677954\n",
            "(793628, 1) (793628, 1)\n",
            "k value 24 Accuracy: 0.6223633742761092\n",
            "(793628, 1) (793628, 1)\n",
            "k value 25 Accuracy: 0.6163215007535017\n",
            "(793628, 1) (793628, 1)\n",
            "k value 26 Accuracy: 0.6250762321893885\n",
            "(793628, 1) (793628, 1)\n",
            "k value 27 Accuracy: 0.6190797199695576\n",
            "(793628, 1) (793628, 1)\n",
            "k value 28 Accuracy: 0.62700030744883\n",
            "(793628, 1) (793628, 1)\n",
            "k value 29 Accuracy: 0.6208664512844809\n",
            "(793628, 1) (793628, 1)\n",
            "k value 30 Accuracy: 0.6281078792582923\n",
            "(793628, 1) (793628, 1)\n",
            "k value 31 Accuracy: 0.6239598401266084\n",
            "(793628, 1) (793628, 1)\n",
            "k value 32 Accuracy: 0.6314142142162323\n",
            "(793628, 1) (793628, 1)\n",
            "k value 33 Accuracy: 0.6257654719843554\n",
            "(793628, 1) (793628, 1)\n",
            "k value 34 Accuracy: 0.6327561527567072\n",
            "(793628, 1) (793628, 1)\n",
            "k value 35 Accuracy: 0.6277210481485028\n",
            "(793628, 1) (793628, 1)\n",
            "k value 36 Accuracy: 0.6338939654346872\n",
            "(793628, 1) (793628, 1)\n",
            "k value 37 Accuracy: 0.6298202684381096\n",
            "(793628, 1) (793628, 1)\n",
            "k value 38 Accuracy: 0.6365261810319193\n",
            "(793628, 1) (793628, 1)\n",
            "k value 39 Accuracy: 0.6322143371957643\n"
          ]
        },
        {
          "data": {
            "text/plain": [
              "Text(0, 0.5, 'Error Rate')"
            ]
          },
          "execution_count": 21,
          "metadata": {},
          "output_type": "execute_result"
        },
        {
          "data": {
            "image/png": "[encoded data removed]",
            "text/plain": [
              "<Figure size 720x432 with 1 Axes>"
            ]
          },
          "metadata": {
            "needs_background": "light"
          },
          "output_type": "display_data"
        }
      ],
      "source": [
        "#Import knearest neighbors Classifier model\n",
        "from sklearn.neighbors import KNeighborsClassifier\n",
        "error_rate = []\n",
        "k_range = range(1, 40)\n",
        "for k in k_range:\n",
        "  #Create KNN Classifier\n",
        "  knn = KNeighborsClassifier(n_neighbors=k)\n",
        "\n",
        "  #Train the model using the training sets\n",
        "  knn.fit(X_train_10, y_train_10)\n",
        "\n",
        "  #Predict the response for test dataset\n",
        "  y_pred = knn.predict(X_test_10)\n",
        "  y_pred=y_pred.reshape(len(y_pred),1)\n",
        "  print(np.shape(y_pred), np.shape(y_test_10))\n",
        "  error_rate.append(np.mean(y_pred != y_test_10))\n",
        "  #Import scikit-learn metrics module for accuracy calculation\n",
        "  from sklearn import metrics\n",
        "  # Model Accuracy, how often is the classifier correct?\n",
        "  print(\"k value\", k, \"Accuracy:\",metrics.accuracy_score(y_test_10, y_pred))\n",
        "\n",
        "plt.figure(figsize=(10,6))\n",
        "plt.plot(range(1,40),error_rate,color='blue', linestyle='dashed', marker='o',\n",
        " markerfacecolor='red', markersize=10)\n",
        "plt.title('Error Rate vs. K Value')\n",
        "plt.xlabel('K')\n",
        "plt.ylabel('Error Rate')"
      ]
    },
    {
      "cell_type": "markdown",
      "metadata": {
        "id": "0uhDy1-dgfj0"
      },
      "source": [
        "**Bulding model based on the identified value of k**"
      ]
    },
    {
      "cell_type": "code",
      "execution_count": null,
      "metadata": {
        "id": "rDrVsFOgrNwj"
      },
      "outputs": [],
      "source": [
        "#Create KNN Classifier\n",
        "knn = KNeighborsClassifier(n_neighbors=6)\n",
        "\n",
        "#Train the model using the training sets\n",
        "knn.fit(X_train_10, y_train_10)\n",
        "\n",
        "#Predict the response for test dataset\n",
        "y_pred_10 = knn.predict(X_test_10)\n",
        "print(classification_report(y_test_10,y_pred_10))"
      ]
    },
    {
      "cell_type": "markdown",
      "metadata": {
        "id": "TaC7AvS5q7w5"
      },
      "source": [
        "### Logistic Regression"
      ]
    },
    {
      "cell_type": "markdown",
      "metadata": {
        "id": "nULmEHn4Z1mD"
      },
      "source": [
        "**Simple Logistic Regression**"
      ]
    },
    {
      "cell_type": "code",
      "execution_count": null,
      "metadata": {
        "colab": {
          "base_uri": "https://localhost:8080/"
        },
        "id": "dROKExQI54rr",
        "outputId": "0c00d503-fdc5-44f3-db8a-ed274b60e156"
      },
      "outputs": [
        {
          "name": "stdout",
          "output_type": "stream",
          "text": [
            "              precision    recall  f1-score   support\n",
            "\n",
            "           0       0.70      1.00      0.82    554369\n",
            "           1       0.00      0.00      0.00    239259\n",
            "\n",
            "    accuracy                           0.70    793628\n",
            "   macro avg       0.35      0.50      0.41    793628\n",
            "weighted avg       0.49      0.70      0.57    793628\n",
            "\n"
          ]
        }
      ],
      "source": [
        "#Create LogisticRegression Classifier\n",
        "lr = LogisticRegression()\n",
        "#Train the model using the training sets\n",
        "lr.fit(X_train_11, y_train_11)\n",
        "\n",
        "#Predict the response for test dataset\n",
        "y_pred_11 = lr.predict(X_test_11)\n",
        "print(classification_report(y_test_11,y_pred_11))"
      ]
    },
    {
      "cell_type": "markdown",
      "metadata": {
        "id": "xottR1unZ7iv"
      },
      "source": [
        "**LogisticRegression - finding best hyper-parameters**"
      ]
    },
    {
      "cell_type": "code",
      "execution_count": 23,
      "metadata": {
        "colab": {
          "base_uri": "https://localhost:8080/"
        },
        "id": "oyfYCiZfq-wv",
        "outputId": "bb5b0737-edef-4e17-cc21-b55ca358e78c"
      },
      "outputs": [
        {
          "name": "stdout",
          "output_type": "stream",
          "text": [
            "Best: 0.973067 using {'C': 1.0, 'penalty': 'l2', 'solver': 'newton-cg'}\n"
          ]
        }
      ],
      "source": [
        "scoring = {'acc': 'accuracy',\n",
        "           'prec_macro': 'precision_macro',\n",
        "           'rec_micro': 'recall_macro'}\n",
        "#Create LogisticRegression Classifier\n",
        "model = LogisticRegression(random_state=0)\n",
        "solvers = ['newton-cg', 'lbfgs', 'liblinear','sag']\n",
        "penalty = ['l2']\n",
        "c_values = [100, 10, 1.0, 0.1, 0.01]\n",
        "# define grid search\n",
        "grid = dict(solver=solvers,penalty=penalty,C=c_values)\n",
        "grid_search = GridSearchCV(estimator=model, param_grid=grid, n_jobs=-1, cv=[(slice(None), slice(None))], scoring=scoring, error_score=0, refit='prec_macro')\n",
        "grid_result = grid_search.fit(X_train_12, y_train_12)\n",
        "# summarize results\n",
        "print(\"Best: %f using %s\" % (grid_result.best_score_, grid_result.best_params_))\n",
        "# means = grid_result.cv_results_['mean_test_score']\n",
        "# stds = grid_result.cv_results_['std_test_score']\n",
        "# params = grid_result.cv_results_['params']\n",
        "# for mean, stdev, param in zip(means, stds, params):\n",
        "#     print(\"%f (%f) with: %r\" % (mean, stdev, param))\n"
      ]
    },
    {
      "cell_type": "markdown",
      "metadata": {
        "id": "vhS4AWfYaMUJ"
      },
      "source": [
        "**LogisticRegression - with best hyper-parameters found in above step**"
      ]
    },
    {
      "cell_type": "code",
      "execution_count": 24,
      "metadata": {
        "colab": {
          "base_uri": "https://localhost:8080/"
        },
        "id": "ve1uL0-EuNg_",
        "outputId": "538f74ed-2834-4b50-bc00-b6657036e009"
      },
      "outputs": [
        {
          "name": "stdout",
          "output_type": "stream",
          "text": [
            "              precision    recall  f1-score   support\n",
            "\n",
            "           0       0.97      0.99      0.98    114796\n",
            "           1       0.98      0.92      0.95     49223\n",
            "\n",
            "    accuracy                           0.97    164019\n",
            "   macro avg       0.97      0.95      0.96    164019\n",
            "weighted avg       0.97      0.97      0.97    164019\n",
            "\n"
          ]
        }
      ],
      "source": [
        "#Create LogisticRegression Classifier penalty= 'l2',solver= 'newton-cg' C= 10,\n",
        "lr = LogisticRegression( solver= 'newton-cg',C= 10, penalty= 'l2')\n",
        "#Train the model using the training sets\n",
        "lr.fit(X_train_12, y_train_12)\n",
        "\n",
        "#Predict the response for test dataset\n",
        "y_pred_12 = lr.predict(X_test_12)\n",
        "print(classification_report(y_test_12,y_pred_12))"
      ]
    },
    {
      "cell_type": "markdown",
      "metadata": {
        "id": "NoURklkqUQYH"
      },
      "source": [
        "### Naive Bayes"
      ]
    },
    {
      "cell_type": "code",
      "execution_count": 27,
      "metadata": {
        "colab": {
          "base_uri": "https://localhost:8080/"
        },
        "id": "Lg_cCrT5mqe4",
        "outputId": "f8888e9f-26c4-4e6b-bd6f-29d00d6a4310"
      },
      "outputs": [
        {
          "name": "stdout",
          "output_type": "stream",
          "text": [
            "              precision    recall  f1-score   support\n",
            "\n",
            "           0       0.70      0.98      0.82    114796\n",
            "           1       0.28      0.02      0.03     49223\n",
            "\n",
            "    accuracy                           0.69    164019\n",
            "   macro avg       0.49      0.50      0.43    164019\n",
            "weighted avg       0.57      0.69      0.58    164019\n",
            "\n"
          ]
        }
      ],
      "source": [
        "gnb_model = GaussianNB()\n",
        "gnb_model.fit(X_train_12, y_train_12)\n",
        "#Predict the response for test dataset\n",
        "y_pred_12 = gnb_model.predict(X_test_12)\n",
        "print(classification_report(y_test_12,y_pred_12))"
      ]
    },
    {
      "cell_type": "markdown",
      "metadata": {
        "id": "wUySG77_l608"
      },
      "source": [
        "**Finding hyperparameters**"
      ]
    },
    {
      "cell_type": "code",
      "execution_count": 34,
      "metadata": {
        "colab": {
          "base_uri": "https://localhost:8080/"
        },
        "id": "hlO2YTgpiBIb",
        "outputId": "ce12ebc0-65b3-469f-f61e-7292992f5622"
      },
      "outputs": [
        {
          "name": "stdout",
          "output_type": "stream",
          "text": [
            "Fitting 1 folds for each of 100 candidates, totalling 100 fits\n",
            "GaussianNB(var_smoothing=1.0)\n"
          ]
        }
      ],
      "source": [
        "from sklearn.naive_bayes import GaussianNB\n",
        "from sklearn.model_selection import GridSearchCV\n",
        "param_grid_nb = {\n",
        "    'var_smoothing': np.logspace(0,-9, num=100)\n",
        "}\n",
        "nbModel_grid = GridSearchCV(estimator=GaussianNB(), param_grid=param_grid_nb, verbose=1,cv=[(slice(None), slice(None))], n_jobs=-1,scoring='precision')\n",
        "nbModel_grid.fit(X_train_12, y_train_12)\n",
        "print(nbModel_grid.best_estimator_)"
      ]
    },
    {
      "cell_type": "code",
      "execution_count": 41,
      "metadata": {
        "colab": {
          "base_uri": "https://localhost:8080/"
        },
        "id": "ttsMzxwsojYg",
        "outputId": "891789f9-4cd4-437e-f27e-810c907fbb40"
      },
      "outputs": [
        {
          "name": "stdout",
          "output_type": "stream",
          "text": [
            "Fitting 1 folds for each of 100 candidates, totalling 100 fits\n",
            "{'var_smoothing': 0.08111308307896872}\n",
            "0.9460079441773691\n"
          ]
        }
      ],
      "source": [
        "from sklearn.naive_bayes import GaussianNB\n",
        "from sklearn.model_selection import GridSearchCV\n",
        "from sklearn.preprocessing import PowerTransformer\n",
        "param_grid_nb = {\n",
        "    'var_smoothing': np.logspace(0,-9, num=100)\n",
        "}\n",
        "# gs_NB = GaussianNB()\n",
        "nbModel_grid = GridSearchCV(estimator=GaussianNB(), param_grid=param_grid_nb, verbose=1,cv=[(slice(None), slice(None))], n_jobs=-1)\n",
        "Data_transformed = PowerTransformer().fit_transform(X_train_12)\n",
        "nbModel_grid.fit(Data_transformed, y_train_12);\n",
        "print(nbModel_grid.best_params_)\n",
        "print(nbModel_grid.best_score_)"
      ]
    },
    {
      "cell_type": "markdown",
      "metadata": {
        "id": "92GZXDirv4e0"
      },
      "source": [
        "**Building model with hyperparameter**"
      ]
    },
    {
      "cell_type": "code",
      "execution_count": 28,
      "metadata": {
        "colab": {
          "base_uri": "https://localhost:8080/"
        },
        "id": "JCPPg07UmDMs",
        "outputId": "c6e79f57-de17-4296-d201-b6efdea9ae0a"
      },
      "outputs": [
        {
          "name": "stdout",
          "output_type": "stream",
          "text": [
            "              precision    recall  f1-score   support\n",
            "\n",
            "           0       0.70      1.00      0.82    114796\n",
            "           1       0.00      0.00      0.00     49223\n",
            "\n",
            "    accuracy                           0.70    164019\n",
            "   macro avg       0.35      0.50      0.41    164019\n",
            "weighted avg       0.49      0.70      0.58    164019\n",
            "\n"
          ]
        }
      ],
      "source": [
        "gnb_model = GaussianNB(priors=None,var_smoothing=1.0)\n",
        "gnb_model.fit(X_train_12, y_train_12)\n",
        "#Predict the response for test dataset\n",
        "y_pred_12 = gnb_model.predict(X_test_12)\n",
        "print(classification_report(y_test_12,y_pred_12))"
      ]
    },
    {
      "cell_type": "markdown",
      "metadata": {
        "id": "UuJQmVUhTj6p"
      },
      "source": [
        "### Stacking ensemble"
      ]
    },
    {
      "cell_type": "code",
      "execution_count": 44,
      "metadata": {
        "id": "TwmCVFNvPgJu"
      },
      "outputs": [],
      "source": [
        "from numpy import mean\n",
        "from numpy import std\n",
        "from sklearn.datasets import make_classification\n",
        "from sklearn.model_selection import cross_val_score\n",
        "from sklearn.model_selection import RepeatedStratifiedKFold\n",
        "from sklearn.linear_model import LogisticRegression\n",
        "from sklearn.neighbors import KNeighborsClassifier\n",
        "from sklearn.tree import DecisionTreeClassifier\n",
        "from sklearn.svm import SVC\n",
        "from sklearn.naive_bayes import GaussianNB\n",
        "from matplotlib import pyplot\n",
        "from sklearn.ensemble import StackingClassifier"
      ]
    },
    {
      "cell_type": "code",
      "execution_count": 43,
      "metadata": {
        "id": "aqOKUplGPgNv"
      },
      "outputs": [],
      "source": [
        "\n",
        "# evaluate a given model\n",
        "def evaluate_model(model, X, y):\n",
        "\tmodel = model.fit(X_train_12,y_train_12)\n",
        "\t#Predict the response for test dataset\n",
        "\ty_pred = model.predict(X_test_12)\n",
        "\t# Model Accuracy, how often is the classifier correct?\n",
        "\tprint(\"Accuracy:\",accuracy_score(y_test_12, y_pred))\n",
        "\tprint(\"Precision:\",precision_score(y_test_12, y_pred))\n",
        "\tprint(classification_report(y_test_12,y_pred))\n",
        "\t# return scores\n",
        "\treturn accuracy_score(y_test_12, y_pred)\n"
      ]
    },
    {
      "cell_type": "code",
      "execution_count": 57,
      "metadata": {
        "id": "1Sn4z38WPgXl"
      },
      "outputs": [],
      "source": [
        "# Stacking layers\n",
        "def get_stacking():\n",
        "\t# define the base models\n",
        "\tlevel0 = list()\n",
        "\tlevel0.append(('lr', LogisticRegression(C= 10, penalty= 'l2', solver= 'newton-cg')))\n",
        "\tlevel0.append(('knn',KNeighborsClassifier(n_neighbors=6)))\n",
        "\tlevel0.append(('bayes', GaussianNB()))\n",
        "\t# define meta learner model\n",
        "\tlevel1 = LogisticRegression()\n",
        "\t# define the stacking ensemble\n",
        "\tmodel = StackingClassifier(estimators=level0, final_estimator=level1)\n",
        "\treturn model"
      ]
    },
    {
      "cell_type": "code",
      "execution_count": 55,
      "metadata": {
        "id": "db5iGt17jIIz"
      },
      "outputs": [],
      "source": [
        "def get_models_list():\n",
        "\tmodels = dict()\n",
        "\tmodels['stacking'] = get_stacking()\n",
        "\treturn models"
      ]
    },
    {
      "cell_type": "code",
      "execution_count": 58,
      "metadata": {
        "colab": {
          "base_uri": "https://localhost:8080/"
        },
        "id": "SzsnKXOmjaZg",
        "outputId": "f7fb90e2-8f57-4056-f229-a374a2a47f82"
      },
      "outputs": [
        {
          "name": "stdout",
          "output_type": "stream",
          "text": [
            "Accuracy: 0.9577183131222602\n",
            "Precision: 0.9385630133576703\n",
            "              precision    recall  f1-score   support\n",
            "\n",
            "           0       0.97      0.97      0.97    114796\n",
            "           1       0.94      0.92      0.93     49223\n",
            "\n",
            "    accuracy                           0.96    164019\n",
            "   macro avg       0.95      0.95      0.95    164019\n",
            "weighted avg       0.96      0.96      0.96    164019\n",
            "\n",
            ">stacking 0.958 (0.000)\n"
          ]
        }
      ],
      "source": [
        "# get the models to evaluate\n",
        "models = get_models_list()\n",
        "# evaluate the models and store results\n",
        "results, names = list(), list()\n",
        "for name, model in models.items():\n",
        "\tscores = evaluate_model(model, None, None)\n",
        "\tresults.append(scores)\n",
        "\tnames.append(name)\n",
        "\tprint('>%s %.3f (%.3f)' % (name, mean(scores), std(scores)))"
      ]
    }
  ],
  "metadata": {
    "accelerator": "TPU",
    "colab": {
      "collapsed_sections": [
        "iE-GWQXjVRTp",
        "2JaN-qhkTXu3",
        "rEQNrBhHRKH7",
        "8Eu1913bTPdr",
        "TaC7AvS5q7w5"
      ],
      "machine_shape": "hm",
      "name": "simple_model_ver_1.1.ipynb",
      "provenance": []
    },
    "kernelspec": {
      "display_name": "Python 3",
      "name": "python3"
    },
    "language_info": {
      "codemirror_mode": {
        "name": "ipython",
        "version": 3
      },
      "file_extension": ".py",
      "mimetype": "text/x-python",
      "name": "python",
      "nbconvert_exporter": "python",
      "pygments_lexer": "ipython3",
      "version": "3.8.5"
    }
  },
  "nbformat": 4,
  "nbformat_minor": 0
}
